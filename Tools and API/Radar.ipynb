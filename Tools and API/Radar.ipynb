{
 "cells": [
  {
   "cell_type": "code",
   "execution_count": 1,
   "metadata": {},
   "outputs": [
    {
     "data": {
      "text/html": [
       "        <script type=\"text/javascript\">\n",
       "        window.PlotlyConfig = {MathJaxConfig: 'local'};\n",
       "        if (window.MathJax) {MathJax.Hub.Config({SVG: {font: \"STIX-Web\"}});}\n",
       "        if (typeof require !== 'undefined') {\n",
       "        require.undef(\"plotly\");\n",
       "        requirejs.config({\n",
       "            paths: {\n",
       "                'plotly': ['https://cdn.plot.ly/plotly-latest.min']\n",
       "            }\n",
       "        });\n",
       "        require(['plotly'], function(Plotly) {\n",
       "            window._Plotly = Plotly;\n",
       "        });\n",
       "        }\n",
       "        </script>\n",
       "        "
      ]
     },
     "metadata": {},
     "output_type": "display_data"
    }
   ],
   "source": [
    "import plotly\n",
    "import plotly.express as px\n",
    "import plotly.graph_objects as go\n",
    "from plotly.offline import download_plotlyjs, init_notebook_mode, plot, iplot\n",
    "\n",
    "init_notebook_mode(connected=True)"
   ]
  },
  {
   "cell_type": "code",
   "execution_count": 2,
   "metadata": {},
   "outputs": [],
   "source": [
    "def multi_radar(categories, r, r1, r2, labels, file):\n",
    "\n",
    "\n",
    "    fig = go.Figure(layout=go.Layout(\n",
    "            title=go.layout.Title(text=\"Radar Plot for playlist\")\n",
    "        ))\n",
    "\n",
    "    fig.add_trace(go.Scatterpolar(\n",
    "          r=r,\n",
    "          theta=categories,\n",
    "          fill='toself',\n",
    "          name=labels[0]\n",
    "    ))\n",
    "    fig.add_trace(go.Scatterpolar(\n",
    "          r=r1,\n",
    "          theta=categories,\n",
    "          fill='toself',\n",
    "          name=labels[1]\n",
    "    ))\n",
    "    fig.add_trace(go.Scatterpolar(\n",
    "          r=r2,\n",
    "          theta=categories,\n",
    "          fill='toself',\n",
    "          name=labels[2]\n",
    "    ))\n",
    "\n",
    "    fig.update_layout(\n",
    "        template=\"plotly_dark\",\n",
    "          polar=dict(\n",
    "            radialaxis=dict(\n",
    "              visible=True,\n",
    "              range=[0, 1]\n",
    "            )),\n",
    "          showlegend=True\n",
    "    )\n",
    "\n",
    "    plotly.offline.plot(fig, filename = file + '.html')"
   ]
  },
  {
   "cell_type": "code",
   "execution_count": 3,
   "metadata": {},
   "outputs": [],
   "source": [
    "def radar(df, theta, r):\n",
    "    fig = px.line_polar(df, r=r, theta=theta,  color_discrete_sequence=px.colors.sequential.Plasma_r,\n",
    "                    template=\"plotly_dark\", line_close=True)\n",
    "    fig.update_traces(fill='toself')\n",
    "\n",
    "    plotly.offline.plot(fig, filename = 'RadarPlaylist.html')"
   ]
  }
 ],
 "metadata": {
  "kernelspec": {
   "display_name": "Python 3",
   "language": "python",
   "name": "python3"
  },
  "language_info": {
   "codemirror_mode": {
    "name": "ipython",
    "version": 3
   },
   "file_extension": ".py",
   "mimetype": "text/x-python",
   "name": "python",
   "nbconvert_exporter": "python",
   "pygments_lexer": "ipython3",
   "version": "3.7.7"
  }
 },
 "nbformat": 4,
 "nbformat_minor": 4
}
