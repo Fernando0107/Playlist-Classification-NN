{
 "cells": [
  {
   "cell_type": "markdown",
   "metadata": {},
   "source": [
    "## Libraries "
   ]
  },
  {
   "cell_type": "code",
   "execution_count": 57,
   "metadata": {},
   "outputs": [],
   "source": [
    "# Dataframe and utils\n",
    "import pandas as pd\n",
    "import numpy as np\n",
    "import matplotlib.pyplot as plt\n",
    "import seaborn as sns\n",
    "from time import time\n",
    "import joblib\n",
    "import os\n",
    "\n",
    "# Preprocessing\n",
    "from sklearn.model_selection import train_test_split\n",
    "from sklearn.preprocessing import LabelEncoder, StandardScaler\n",
    "\n",
    "#Keras\n",
    "import keras\n",
    "from keras import models\n",
    "from keras.utils import plot_model\n",
    "from keras.models import Sequential\n",
    "from keras import layers\n",
    "from keras.layers import Dense, Flatten, Activation \n",
    "\n",
    "from ipynb.fs.full.Radar import radar, multi_radar\n",
    "from ipynb.fs.full.Tools import get_mean, get_attribute, playlist_name, get_attribute2\n",
    "\n",
    "\n",
    "%matplotlib inline"
   ]
  },
  {
   "cell_type": "markdown",
   "metadata": {},
   "source": [
    "## File Manager"
   ]
  },
  {
   "cell_type": "code",
   "execution_count": 2,
   "metadata": {},
   "outputs": [],
   "source": [
    "# File opening\n",
    "\n",
    "filepath = r'Dataframe\\\\'\n",
    "\n",
    "# Rock Data\n",
    "data = 'MusicData'\n",
    "\n",
    "# Pop Data\n",
    "data1 = 'MusicData2'\n",
    "\n",
    "# Salsa Data\n",
    "data3 = 'MusicDataNo.1'"
   ]
  },
  {
   "cell_type": "code",
   "execution_count": 3,
   "metadata": {},
   "outputs": [],
   "source": [
    "# Rock Data\n",
    "\n",
    "df = pd.read_csv(filepath + data3 +'.csv') "
   ]
  },
  {
   "cell_type": "markdown",
   "metadata": {},
   "source": [
    "## Dataframe Information"
   ]
  },
  {
   "cell_type": "code",
   "execution_count": 4,
   "metadata": {},
   "outputs": [
    {
     "data": {
      "text/html": [
       "<div>\n",
       "<style scoped>\n",
       "    .dataframe tbody tr th:only-of-type {\n",
       "        vertical-align: middle;\n",
       "    }\n",
       "\n",
       "    .dataframe tbody tr th {\n",
       "        vertical-align: top;\n",
       "    }\n",
       "\n",
       "    .dataframe thead th {\n",
       "        text-align: right;\n",
       "    }\n",
       "</style>\n",
       "<table border=\"1\" class=\"dataframe\">\n",
       "  <thead>\n",
       "    <tr style=\"text-align: right;\">\n",
       "      <th></th>\n",
       "      <th>artist</th>\n",
       "      <th>album</th>\n",
       "      <th>track_name</th>\n",
       "      <th>track_id</th>\n",
       "      <th>acousticness</th>\n",
       "      <th>danceability</th>\n",
       "      <th>energy</th>\n",
       "      <th>key</th>\n",
       "      <th>loudness</th>\n",
       "      <th>mode</th>\n",
       "      <th>speechiness</th>\n",
       "      <th>instrumentalness</th>\n",
       "      <th>liveness</th>\n",
       "      <th>valence</th>\n",
       "      <th>tempo</th>\n",
       "      <th>duration_ms</th>\n",
       "      <th>time_signature</th>\n",
       "      <th>playlist</th>\n",
       "    </tr>\n",
       "  </thead>\n",
       "  <tbody>\n",
       "    <tr>\n",
       "      <th>0</th>\n",
       "      <td>TOTO</td>\n",
       "      <td>Toto IV</td>\n",
       "      <td>Africa</td>\n",
       "      <td>2374M0fQpWi3dLnB54qaLX</td>\n",
       "      <td>0.257000</td>\n",
       "      <td>0.671</td>\n",
       "      <td>0.373</td>\n",
       "      <td>9</td>\n",
       "      <td>-18.064</td>\n",
       "      <td>1</td>\n",
       "      <td>0.0323</td>\n",
       "      <td>0.000080</td>\n",
       "      <td>0.0481</td>\n",
       "      <td>0.732</td>\n",
       "      <td>92.717</td>\n",
       "      <td>295893</td>\n",
       "      <td>4</td>\n",
       "      <td>Varias (80s,90s...)</td>\n",
       "    </tr>\n",
       "    <tr>\n",
       "      <th>1</th>\n",
       "      <td>TOTO</td>\n",
       "      <td>Toto</td>\n",
       "      <td>Hold the Line</td>\n",
       "      <td>4aVuWgvD0X63hcOCnZtNFA</td>\n",
       "      <td>0.007830</td>\n",
       "      <td>0.473</td>\n",
       "      <td>0.898</td>\n",
       "      <td>6</td>\n",
       "      <td>-4.797</td>\n",
       "      <td>0</td>\n",
       "      <td>0.0561</td>\n",
       "      <td>0.061800</td>\n",
       "      <td>0.1730</td>\n",
       "      <td>0.808</td>\n",
       "      <td>96.556</td>\n",
       "      <td>235547</td>\n",
       "      <td>4</td>\n",
       "      <td>Varias (80s,90s...)</td>\n",
       "    </tr>\n",
       "    <tr>\n",
       "      <th>2</th>\n",
       "      <td>TOTO</td>\n",
       "      <td>Toto IV</td>\n",
       "      <td>Rosanna</td>\n",
       "      <td>37BTh5g05cxBIRYMbw8g2T</td>\n",
       "      <td>0.021300</td>\n",
       "      <td>0.384</td>\n",
       "      <td>0.512</td>\n",
       "      <td>7</td>\n",
       "      <td>-13.035</td>\n",
       "      <td>0</td>\n",
       "      <td>0.0358</td>\n",
       "      <td>0.000139</td>\n",
       "      <td>0.2050</td>\n",
       "      <td>0.739</td>\n",
       "      <td>78.442</td>\n",
       "      <td>331200</td>\n",
       "      <td>4</td>\n",
       "      <td>Varias (80s,90s...)</td>\n",
       "    </tr>\n",
       "    <tr>\n",
       "      <th>3</th>\n",
       "      <td>U2</td>\n",
       "      <td>The Best of 1980-1990 &amp; B-Sides</td>\n",
       "      <td>With Or Without You</td>\n",
       "      <td>2JZfTvWWtpaE8NohqRXqFr</td>\n",
       "      <td>0.000128</td>\n",
       "      <td>0.546</td>\n",
       "      <td>0.485</td>\n",
       "      <td>2</td>\n",
       "      <td>-9.424</td>\n",
       "      <td>1</td>\n",
       "      <td>0.0270</td>\n",
       "      <td>0.318000</td>\n",
       "      <td>0.0939</td>\n",
       "      <td>0.106</td>\n",
       "      <td>109.913</td>\n",
       "      <td>295200</td>\n",
       "      <td>4</td>\n",
       "      <td>Varias (80s,90s...)</td>\n",
       "    </tr>\n",
       "    <tr>\n",
       "      <th>4</th>\n",
       "      <td>U2</td>\n",
       "      <td>U218 Singles (Deluxe Version)</td>\n",
       "      <td>Beautiful Day</td>\n",
       "      <td>0G5F2msfVO77xs7ql2RiTS</td>\n",
       "      <td>0.022500</td>\n",
       "      <td>0.541</td>\n",
       "      <td>0.914</td>\n",
       "      <td>2</td>\n",
       "      <td>-6.727</td>\n",
       "      <td>1</td>\n",
       "      <td>0.0520</td>\n",
       "      <td>0.000441</td>\n",
       "      <td>0.3530</td>\n",
       "      <td>0.449</td>\n",
       "      <td>136.282</td>\n",
       "      <td>245707</td>\n",
       "      <td>4</td>\n",
       "      <td>Varias (80s,90s...)</td>\n",
       "    </tr>\n",
       "  </tbody>\n",
       "</table>\n",
       "</div>"
      ],
      "text/plain": [
       "  artist                            album           track_name  \\\n",
       "0   TOTO                          Toto IV               Africa   \n",
       "1   TOTO                             Toto        Hold the Line   \n",
       "2   TOTO                          Toto IV              Rosanna   \n",
       "3     U2  The Best of 1980-1990 & B-Sides  With Or Without You   \n",
       "4     U2    U218 Singles (Deluxe Version)        Beautiful Day   \n",
       "\n",
       "                 track_id  acousticness  danceability  energy  key  loudness  \\\n",
       "0  2374M0fQpWi3dLnB54qaLX      0.257000         0.671   0.373    9   -18.064   \n",
       "1  4aVuWgvD0X63hcOCnZtNFA      0.007830         0.473   0.898    6    -4.797   \n",
       "2  37BTh5g05cxBIRYMbw8g2T      0.021300         0.384   0.512    7   -13.035   \n",
       "3  2JZfTvWWtpaE8NohqRXqFr      0.000128         0.546   0.485    2    -9.424   \n",
       "4  0G5F2msfVO77xs7ql2RiTS      0.022500         0.541   0.914    2    -6.727   \n",
       "\n",
       "   mode  speechiness  instrumentalness  liveness  valence    tempo  \\\n",
       "0     1       0.0323          0.000080    0.0481    0.732   92.717   \n",
       "1     0       0.0561          0.061800    0.1730    0.808   96.556   \n",
       "2     0       0.0358          0.000139    0.2050    0.739   78.442   \n",
       "3     1       0.0270          0.318000    0.0939    0.106  109.913   \n",
       "4     1       0.0520          0.000441    0.3530    0.449  136.282   \n",
       "\n",
       "   duration_ms  time_signature             playlist  \n",
       "0       295893               4  Varias (80s,90s...)  \n",
       "1       235547               4  Varias (80s,90s...)  \n",
       "2       331200               4  Varias (80s,90s...)  \n",
       "3       295200               4  Varias (80s,90s...)  \n",
       "4       245707               4  Varias (80s,90s...)  "
      ]
     },
     "execution_count": 4,
     "metadata": {},
     "output_type": "execute_result"
    }
   ],
   "source": [
    "df.head()"
   ]
  },
  {
   "cell_type": "code",
   "execution_count": 5,
   "metadata": {},
   "outputs": [
    {
     "data": {
      "text/html": [
       "<div>\n",
       "<style scoped>\n",
       "    .dataframe tbody tr th:only-of-type {\n",
       "        vertical-align: middle;\n",
       "    }\n",
       "\n",
       "    .dataframe tbody tr th {\n",
       "        vertical-align: top;\n",
       "    }\n",
       "\n",
       "    .dataframe thead th {\n",
       "        text-align: right;\n",
       "    }\n",
       "</style>\n",
       "<table border=\"1\" class=\"dataframe\">\n",
       "  <thead>\n",
       "    <tr style=\"text-align: right;\">\n",
       "      <th></th>\n",
       "      <th>artist</th>\n",
       "      <th>album</th>\n",
       "      <th>track_name</th>\n",
       "      <th>track_id</th>\n",
       "      <th>acousticness</th>\n",
       "      <th>danceability</th>\n",
       "      <th>energy</th>\n",
       "      <th>key</th>\n",
       "      <th>loudness</th>\n",
       "      <th>mode</th>\n",
       "      <th>speechiness</th>\n",
       "      <th>instrumentalness</th>\n",
       "      <th>liveness</th>\n",
       "      <th>valence</th>\n",
       "      <th>tempo</th>\n",
       "      <th>duration_ms</th>\n",
       "      <th>time_signature</th>\n",
       "      <th>playlist</th>\n",
       "    </tr>\n",
       "  </thead>\n",
       "  <tbody>\n",
       "    <tr>\n",
       "      <th>1637</th>\n",
       "      <td>Kerri Chandler</td>\n",
       "      <td>Bar A Thym (Supernova Remix Deluxe)</td>\n",
       "      <td>Bar A Thym (Original)</td>\n",
       "      <td>5sEsABi0eX7MxBQR0uYKaT</td>\n",
       "      <td>0.00045</td>\n",
       "      <td>0.806</td>\n",
       "      <td>0.869</td>\n",
       "      <td>10</td>\n",
       "      <td>-4.553</td>\n",
       "      <td>0</td>\n",
       "      <td>0.0570</td>\n",
       "      <td>0.9080</td>\n",
       "      <td>0.0570</td>\n",
       "      <td>0.7580</td>\n",
       "      <td>125.993</td>\n",
       "      <td>444624</td>\n",
       "      <td>4</td>\n",
       "      <td>Electronic</td>\n",
       "    </tr>\n",
       "    <tr>\n",
       "      <th>1638</th>\n",
       "      <td>Jean-Michel Jarre</td>\n",
       "      <td>Oxygène</td>\n",
       "      <td>Oxygene, Pt. 4</td>\n",
       "      <td>0Tt2jli0yAD1MKSTb5MvS2</td>\n",
       "      <td>0.02340</td>\n",
       "      <td>0.430</td>\n",
       "      <td>0.755</td>\n",
       "      <td>7</td>\n",
       "      <td>-8.457</td>\n",
       "      <td>0</td>\n",
       "      <td>0.0365</td>\n",
       "      <td>0.5910</td>\n",
       "      <td>0.5510</td>\n",
       "      <td>0.6570</td>\n",
       "      <td>188.904</td>\n",
       "      <td>246893</td>\n",
       "      <td>3</td>\n",
       "      <td>Electronic</td>\n",
       "    </tr>\n",
       "    <tr>\n",
       "      <th>1639</th>\n",
       "      <td>FC Kahuna</td>\n",
       "      <td>Machine Says Yes</td>\n",
       "      <td>Hayling (feat. Hafdis Huld)</td>\n",
       "      <td>58eKLwmiYrJAqNlv96pwlP</td>\n",
       "      <td>0.49500</td>\n",
       "      <td>0.555</td>\n",
       "      <td>0.329</td>\n",
       "      <td>5</td>\n",
       "      <td>-9.188</td>\n",
       "      <td>1</td>\n",
       "      <td>0.0279</td>\n",
       "      <td>0.0154</td>\n",
       "      <td>0.6690</td>\n",
       "      <td>0.0391</td>\n",
       "      <td>140.038</td>\n",
       "      <td>407973</td>\n",
       "      <td>4</td>\n",
       "      <td>Electronic</td>\n",
       "    </tr>\n",
       "    <tr>\n",
       "      <th>1640</th>\n",
       "      <td>Hollis P. Monroe</td>\n",
       "      <td>I'M Lonely</td>\n",
       "      <td>I'm Lonely</td>\n",
       "      <td>7iEgoNG4xlbpTxLuMNrBl5</td>\n",
       "      <td>0.00102</td>\n",
       "      <td>0.656</td>\n",
       "      <td>0.864</td>\n",
       "      <td>7</td>\n",
       "      <td>-6.423</td>\n",
       "      <td>1</td>\n",
       "      <td>0.0444</td>\n",
       "      <td>0.7870</td>\n",
       "      <td>0.1580</td>\n",
       "      <td>0.8150</td>\n",
       "      <td>133.305</td>\n",
       "      <td>413120</td>\n",
       "      <td>4</td>\n",
       "      <td>Electronic</td>\n",
       "    </tr>\n",
       "    <tr>\n",
       "      <th>1641</th>\n",
       "      <td>DJ Q</td>\n",
       "      <td>Twentyfourseven</td>\n",
       "      <td>Optiumum Thinking</td>\n",
       "      <td>50ti9tKpZpgmT3BCe4Ezi0</td>\n",
       "      <td>0.04850</td>\n",
       "      <td>0.838</td>\n",
       "      <td>0.733</td>\n",
       "      <td>6</td>\n",
       "      <td>-10.467</td>\n",
       "      <td>1</td>\n",
       "      <td>0.0308</td>\n",
       "      <td>0.8670</td>\n",
       "      <td>0.0825</td>\n",
       "      <td>0.5450</td>\n",
       "      <td>127.889</td>\n",
       "      <td>457960</td>\n",
       "      <td>4</td>\n",
       "      <td>Electronic</td>\n",
       "    </tr>\n",
       "  </tbody>\n",
       "</table>\n",
       "</div>"
      ],
      "text/plain": [
       "                 artist                                album  \\\n",
       "1637     Kerri Chandler  Bar A Thym (Supernova Remix Deluxe)   \n",
       "1638  Jean-Michel Jarre                              Oxygène   \n",
       "1639          FC Kahuna                     Machine Says Yes   \n",
       "1640   Hollis P. Monroe                           I'M Lonely   \n",
       "1641               DJ Q                      Twentyfourseven   \n",
       "\n",
       "                       track_name                track_id  acousticness  \\\n",
       "1637        Bar A Thym (Original)  5sEsABi0eX7MxBQR0uYKaT       0.00045   \n",
       "1638               Oxygene, Pt. 4  0Tt2jli0yAD1MKSTb5MvS2       0.02340   \n",
       "1639  Hayling (feat. Hafdis Huld)  58eKLwmiYrJAqNlv96pwlP       0.49500   \n",
       "1640                   I'm Lonely  7iEgoNG4xlbpTxLuMNrBl5       0.00102   \n",
       "1641            Optiumum Thinking  50ti9tKpZpgmT3BCe4Ezi0       0.04850   \n",
       "\n",
       "      danceability  energy  key  loudness  mode  speechiness  \\\n",
       "1637         0.806   0.869   10    -4.553     0       0.0570   \n",
       "1638         0.430   0.755    7    -8.457     0       0.0365   \n",
       "1639         0.555   0.329    5    -9.188     1       0.0279   \n",
       "1640         0.656   0.864    7    -6.423     1       0.0444   \n",
       "1641         0.838   0.733    6   -10.467     1       0.0308   \n",
       "\n",
       "      instrumentalness  liveness  valence    tempo  duration_ms  \\\n",
       "1637            0.9080    0.0570   0.7580  125.993       444624   \n",
       "1638            0.5910    0.5510   0.6570  188.904       246893   \n",
       "1639            0.0154    0.6690   0.0391  140.038       407973   \n",
       "1640            0.7870    0.1580   0.8150  133.305       413120   \n",
       "1641            0.8670    0.0825   0.5450  127.889       457960   \n",
       "\n",
       "      time_signature    playlist  \n",
       "1637               4  Electronic  \n",
       "1638               3  Electronic  \n",
       "1639               4  Electronic  \n",
       "1640               4  Electronic  \n",
       "1641               4  Electronic  "
      ]
     },
     "execution_count": 5,
     "metadata": {},
     "output_type": "execute_result"
    }
   ],
   "source": [
    "df.tail()"
   ]
  },
  {
   "cell_type": "code",
   "execution_count": 6,
   "metadata": {},
   "outputs": [
    {
     "name": "stdout",
     "output_type": "stream",
     "text": [
      "Shape of dataframe:  (1642, 18)\n"
     ]
    }
   ],
   "source": [
    "print(\"Shape of dataframe: \", df.shape)"
   ]
  },
  {
   "cell_type": "code",
   "execution_count": 7,
   "metadata": {},
   "outputs": [
    {
     "name": "stdout",
     "output_type": "stream",
     "text": [
      "   ------ Types ------\n"
     ]
    },
    {
     "data": {
      "text/plain": [
       "artist               object\n",
       "album                object\n",
       "track_name           object\n",
       "track_id             object\n",
       "acousticness        float64\n",
       "danceability        float64\n",
       "energy              float64\n",
       "key                   int64\n",
       "loudness            float64\n",
       "mode                  int64\n",
       "speechiness         float64\n",
       "instrumentalness    float64\n",
       "liveness            float64\n",
       "valence             float64\n",
       "tempo               float64\n",
       "duration_ms           int64\n",
       "time_signature        int64\n",
       "playlist             object\n",
       "dtype: object"
      ]
     },
     "execution_count": 7,
     "metadata": {},
     "output_type": "execute_result"
    }
   ],
   "source": [
    "# Types of the dataframe\n",
    "\n",
    "print(\"   ------ Types ------\")\n",
    "df.dtypes"
   ]
  },
  {
   "cell_type": "code",
   "execution_count": 8,
   "metadata": {},
   "outputs": [
    {
     "name": "stdout",
     "output_type": "stream",
     "text": [
      "Dataframe Columns:  Index(['artist', 'album', 'track_name', 'track_id', 'acousticness',\n",
      "       'danceability', 'energy', 'key', 'loudness', 'mode', 'speechiness',\n",
      "       'instrumentalness', 'liveness', 'valence', 'tempo', 'duration_ms',\n",
      "       'time_signature', 'playlist'],\n",
      "      dtype='object')\n"
     ]
    }
   ],
   "source": [
    "print('Dataframe Columns: ', df.columns)"
   ]
  },
  {
   "cell_type": "code",
   "execution_count": 9,
   "metadata": {},
   "outputs": [
    {
     "data": {
      "text/html": [
       "<div>\n",
       "<style scoped>\n",
       "    .dataframe tbody tr th:only-of-type {\n",
       "        vertical-align: middle;\n",
       "    }\n",
       "\n",
       "    .dataframe tbody tr th {\n",
       "        vertical-align: top;\n",
       "    }\n",
       "\n",
       "    .dataframe thead th {\n",
       "        text-align: right;\n",
       "    }\n",
       "</style>\n",
       "<table border=\"1\" class=\"dataframe\">\n",
       "  <thead>\n",
       "    <tr style=\"text-align: right;\">\n",
       "      <th></th>\n",
       "      <th>acousticness</th>\n",
       "      <th>danceability</th>\n",
       "      <th>energy</th>\n",
       "      <th>key</th>\n",
       "      <th>loudness</th>\n",
       "      <th>mode</th>\n",
       "      <th>speechiness</th>\n",
       "      <th>instrumentalness</th>\n",
       "      <th>liveness</th>\n",
       "      <th>valence</th>\n",
       "      <th>tempo</th>\n",
       "      <th>duration_ms</th>\n",
       "      <th>time_signature</th>\n",
       "    </tr>\n",
       "  </thead>\n",
       "  <tbody>\n",
       "    <tr>\n",
       "      <th>count</th>\n",
       "      <td>1642.000000</td>\n",
       "      <td>1642.000000</td>\n",
       "      <td>1642.000000</td>\n",
       "      <td>1642.000000</td>\n",
       "      <td>1642.000000</td>\n",
       "      <td>1642.000000</td>\n",
       "      <td>1642.000000</td>\n",
       "      <td>1642.000000</td>\n",
       "      <td>1642.000000</td>\n",
       "      <td>1642.000000</td>\n",
       "      <td>1642.000000</td>\n",
       "      <td>1.642000e+03</td>\n",
       "      <td>1642.000000</td>\n",
       "    </tr>\n",
       "    <tr>\n",
       "      <th>mean</th>\n",
       "      <td>0.254100</td>\n",
       "      <td>0.640362</td>\n",
       "      <td>0.722691</td>\n",
       "      <td>5.370280</td>\n",
       "      <td>-8.231945</td>\n",
       "      <td>0.528624</td>\n",
       "      <td>0.052914</td>\n",
       "      <td>0.217021</td>\n",
       "      <td>0.182326</td>\n",
       "      <td>0.655139</td>\n",
       "      <td>121.458286</td>\n",
       "      <td>3.158300e+05</td>\n",
       "      <td>3.985384</td>\n",
       "    </tr>\n",
       "    <tr>\n",
       "      <th>std</th>\n",
       "      <td>0.263616</td>\n",
       "      <td>0.121946</td>\n",
       "      <td>0.163189</td>\n",
       "      <td>3.573454</td>\n",
       "      <td>3.243697</td>\n",
       "      <td>0.499332</td>\n",
       "      <td>0.037221</td>\n",
       "      <td>0.342261</td>\n",
       "      <td>0.166383</td>\n",
       "      <td>0.261939</td>\n",
       "      <td>26.208380</td>\n",
       "      <td>1.166071e+05</td>\n",
       "      <td>0.138876</td>\n",
       "    </tr>\n",
       "    <tr>\n",
       "      <th>min</th>\n",
       "      <td>0.000002</td>\n",
       "      <td>0.166000</td>\n",
       "      <td>0.068300</td>\n",
       "      <td>0.000000</td>\n",
       "      <td>-23.333000</td>\n",
       "      <td>0.000000</td>\n",
       "      <td>0.022300</td>\n",
       "      <td>0.000000</td>\n",
       "      <td>0.023000</td>\n",
       "      <td>0.033600</td>\n",
       "      <td>67.970000</td>\n",
       "      <td>1.416930e+05</td>\n",
       "      <td>3.000000</td>\n",
       "    </tr>\n",
       "    <tr>\n",
       "      <th>25%</th>\n",
       "      <td>0.016825</td>\n",
       "      <td>0.564000</td>\n",
       "      <td>0.624000</td>\n",
       "      <td>2.000000</td>\n",
       "      <td>-10.015250</td>\n",
       "      <td>0.000000</td>\n",
       "      <td>0.035500</td>\n",
       "      <td>0.000014</td>\n",
       "      <td>0.079650</td>\n",
       "      <td>0.476000</td>\n",
       "      <td>99.921500</td>\n",
       "      <td>2.464950e+05</td>\n",
       "      <td>4.000000</td>\n",
       "    </tr>\n",
       "    <tr>\n",
       "      <th>50%</th>\n",
       "      <td>0.148500</td>\n",
       "      <td>0.652000</td>\n",
       "      <td>0.739000</td>\n",
       "      <td>5.000000</td>\n",
       "      <td>-7.715500</td>\n",
       "      <td>1.000000</td>\n",
       "      <td>0.042900</td>\n",
       "      <td>0.002365</td>\n",
       "      <td>0.116000</td>\n",
       "      <td>0.729500</td>\n",
       "      <td>120.200000</td>\n",
       "      <td>2.883665e+05</td>\n",
       "      <td>4.000000</td>\n",
       "    </tr>\n",
       "    <tr>\n",
       "      <th>75%</th>\n",
       "      <td>0.470000</td>\n",
       "      <td>0.728000</td>\n",
       "      <td>0.849000</td>\n",
       "      <td>9.000000</td>\n",
       "      <td>-5.842250</td>\n",
       "      <td>1.000000</td>\n",
       "      <td>0.056200</td>\n",
       "      <td>0.407750</td>\n",
       "      <td>0.235750</td>\n",
       "      <td>0.882000</td>\n",
       "      <td>134.327250</td>\n",
       "      <td>3.552130e+05</td>\n",
       "      <td>4.000000</td>\n",
       "    </tr>\n",
       "    <tr>\n",
       "      <th>max</th>\n",
       "      <td>0.994000</td>\n",
       "      <td>0.960000</td>\n",
       "      <td>0.999000</td>\n",
       "      <td>11.000000</td>\n",
       "      <td>1.342000</td>\n",
       "      <td>1.000000</td>\n",
       "      <td>0.578000</td>\n",
       "      <td>0.957000</td>\n",
       "      <td>0.992000</td>\n",
       "      <td>0.980000</td>\n",
       "      <td>204.789000</td>\n",
       "      <td>1.757606e+06</td>\n",
       "      <td>5.000000</td>\n",
       "    </tr>\n",
       "  </tbody>\n",
       "</table>\n",
       "</div>"
      ],
      "text/plain": [
       "       acousticness  danceability       energy          key     loudness  \\\n",
       "count   1642.000000   1642.000000  1642.000000  1642.000000  1642.000000   \n",
       "mean       0.254100      0.640362     0.722691     5.370280    -8.231945   \n",
       "std        0.263616      0.121946     0.163189     3.573454     3.243697   \n",
       "min        0.000002      0.166000     0.068300     0.000000   -23.333000   \n",
       "25%        0.016825      0.564000     0.624000     2.000000   -10.015250   \n",
       "50%        0.148500      0.652000     0.739000     5.000000    -7.715500   \n",
       "75%        0.470000      0.728000     0.849000     9.000000    -5.842250   \n",
       "max        0.994000      0.960000     0.999000    11.000000     1.342000   \n",
       "\n",
       "              mode  speechiness  instrumentalness     liveness      valence  \\\n",
       "count  1642.000000  1642.000000       1642.000000  1642.000000  1642.000000   \n",
       "mean      0.528624     0.052914          0.217021     0.182326     0.655139   \n",
       "std       0.499332     0.037221          0.342261     0.166383     0.261939   \n",
       "min       0.000000     0.022300          0.000000     0.023000     0.033600   \n",
       "25%       0.000000     0.035500          0.000014     0.079650     0.476000   \n",
       "50%       1.000000     0.042900          0.002365     0.116000     0.729500   \n",
       "75%       1.000000     0.056200          0.407750     0.235750     0.882000   \n",
       "max       1.000000     0.578000          0.957000     0.992000     0.980000   \n",
       "\n",
       "             tempo   duration_ms  time_signature  \n",
       "count  1642.000000  1.642000e+03     1642.000000  \n",
       "mean    121.458286  3.158300e+05        3.985384  \n",
       "std      26.208380  1.166071e+05        0.138876  \n",
       "min      67.970000  1.416930e+05        3.000000  \n",
       "25%      99.921500  2.464950e+05        4.000000  \n",
       "50%     120.200000  2.883665e+05        4.000000  \n",
       "75%     134.327250  3.552130e+05        4.000000  \n",
       "max     204.789000  1.757606e+06        5.000000  "
      ]
     },
     "execution_count": 9,
     "metadata": {},
     "output_type": "execute_result"
    }
   ],
   "source": [
    "# Show some statistics about dataset\n",
    "\n",
    "df.describe()"
   ]
  },
  {
   "cell_type": "markdown",
   "metadata": {},
   "source": [
    "## Data Exploration"
   ]
  },
  {
   "cell_type": "code",
   "execution_count": 10,
   "metadata": {},
   "outputs": [
    {
     "name": "stdout",
     "output_type": "stream",
     "text": [
      "Unique values of Key: \n",
      " [ 9  6  7  2  0  1  4  5  8 11 10  3]\n"
     ]
    }
   ],
   "source": [
    "print(\"Unique values of Key: \\n\", df['key'].unique())"
   ]
  },
  {
   "cell_type": "code",
   "execution_count": 11,
   "metadata": {},
   "outputs": [
    {
     "name": "stdout",
     "output_type": "stream",
     "text": [
      "Unique values of time_signature: \n",
      " [4 3 5]\n"
     ]
    }
   ],
   "source": [
    "print(\"Unique values of time_signature: \\n\", df['time_signature'].unique())"
   ]
  },
  {
   "cell_type": "markdown",
   "metadata": {},
   "source": [
    "### Get each playlist"
   ]
  },
  {
   "cell_type": "code",
   "execution_count": 12,
   "metadata": {},
   "outputs": [],
   "source": [
    "varias = df.loc[df['playlist'] == 'Varias (80s,90s...)']"
   ]
  },
  {
   "cell_type": "code",
   "execution_count": 13,
   "metadata": {},
   "outputs": [],
   "source": [
    "salsa = df.loc[df['playlist'] == 'Salsa']"
   ]
  },
  {
   "cell_type": "code",
   "execution_count": 14,
   "metadata": {},
   "outputs": [],
   "source": [
    "Electronic = df.loc[df['playlist'] == 'Electronic']"
   ]
  },
  {
   "cell_type": "markdown",
   "metadata": {},
   "source": [
    "## Audio Features "
   ]
  },
  {
   "cell_type": "markdown",
   "metadata": {},
   "source": [
    "#### Varias"
   ]
  },
  {
   "cell_type": "code",
   "execution_count": 15,
   "metadata": {},
   "outputs": [],
   "source": [
    "varias_ = get_attribute(varias)"
   ]
  },
  {
   "cell_type": "markdown",
   "metadata": {},
   "source": [
    "### Rock"
   ]
  },
  {
   "cell_type": "code",
   "execution_count": 16,
   "metadata": {},
   "outputs": [],
   "source": [
    "salsa_ = get_attribute(salsa)"
   ]
  },
  {
   "cell_type": "markdown",
   "metadata": {},
   "source": [
    "### Electronic"
   ]
  },
  {
   "cell_type": "code",
   "execution_count": 17,
   "metadata": {},
   "outputs": [],
   "source": [
    "electronic_ = get_attribute(Electronic)"
   ]
  },
  {
   "cell_type": "markdown",
   "metadata": {},
   "source": [
    "### Radar Chart"
   ]
  },
  {
   "cell_type": "code",
   "execution_count": 18,
   "metadata": {},
   "outputs": [],
   "source": [
    "playlists_names = ['Varias', 'Salsa', 'Electronic']"
   ]
  },
  {
   "cell_type": "code",
   "execution_count": 19,
   "metadata": {},
   "outputs": [],
   "source": [
    "# Features\n",
    "r = varias_\n",
    "r1 = salsa_\n",
    "r2 = electronic_"
   ]
  },
  {
   "cell_type": "code",
   "execution_count": 20,
   "metadata": {},
   "outputs": [],
   "source": [
    "# Features column name\n",
    "imp_features = ['acousticness', 'danceability', 'energy', 'speechiness', 'instrumentalness', 'liveness', 'valence']\n",
    "\n",
    "categories = imp_features"
   ]
  },
  {
   "cell_type": "code",
   "execution_count": 21,
   "metadata": {},
   "outputs": [],
   "source": [
    "#radar(df, categories, r1)"
   ]
  },
  {
   "cell_type": "code",
   "execution_count": 22,
   "metadata": {},
   "outputs": [],
   "source": [
    "multi_radar(categories, r, r1, r2, playlists_names, 'Dis#1')"
   ]
  },
  {
   "cell_type": "markdown",
   "metadata": {},
   "source": [
    "### Correlation Map"
   ]
  },
  {
   "cell_type": "code",
   "execution_count": 23,
   "metadata": {},
   "outputs": [
    {
     "data": {
      "text/plain": [
       "[Text(0.5, 1.0, 'Correlation')]"
      ]
     },
     "execution_count": 23,
     "metadata": {},
     "output_type": "execute_result"
    },
    {
     "data": {
      "image/png": "[encoded data removed]",
      "text/plain": [
       "<Figure size 720x504 with 2 Axes>"
      ]
     },
     "metadata": {
      "needs_background": "light"
     },
     "output_type": "display_data"
    }
   ],
   "source": [
    "corrmat = df.corr(method='kendall') \n",
    "  \n",
    "f, ax = plt.subplots(figsize =(10,7)) \n",
    "sns.heatmap(corrmat, ax = ax, cmap =\"YlGnBu\", linewidths = 0.1)\n",
    "ax.set(title='Correlation')"
   ]
  },
  {
   "cell_type": "markdown",
   "metadata": {},
   "source": [
    "### Removing irrelevant columns"
   ]
  },
  {
   "cell_type": "code",
   "execution_count": 24,
   "metadata": {},
   "outputs": [],
   "source": [
    "# Removing Irrelevant columns \n",
    "\n",
    "df.drop(['artist', 'album', 'track_name', 'track_id', 'speechiness', 'duration_ms'], axis=1, inplace=True)"
   ]
  },
  {
   "cell_type": "code",
   "execution_count": 25,
   "metadata": {},
   "outputs": [
    {
     "data": {
      "text/html": [
       "<div>\n",
       "<style scoped>\n",
       "    .dataframe tbody tr th:only-of-type {\n",
       "        vertical-align: middle;\n",
       "    }\n",
       "\n",
       "    .dataframe tbody tr th {\n",
       "        vertical-align: top;\n",
       "    }\n",
       "\n",
       "    .dataframe thead th {\n",
       "        text-align: right;\n",
       "    }\n",
       "</style>\n",
       "<table border=\"1\" class=\"dataframe\">\n",
       "  <thead>\n",
       "    <tr style=\"text-align: right;\">\n",
       "      <th></th>\n",
       "      <th>acousticness</th>\n",
       "      <th>danceability</th>\n",
       "      <th>energy</th>\n",
       "      <th>key</th>\n",
       "      <th>loudness</th>\n",
       "      <th>mode</th>\n",
       "      <th>instrumentalness</th>\n",
       "      <th>liveness</th>\n",
       "      <th>valence</th>\n",
       "      <th>tempo</th>\n",
       "      <th>time_signature</th>\n",
       "      <th>playlist</th>\n",
       "    </tr>\n",
       "  </thead>\n",
       "  <tbody>\n",
       "    <tr>\n",
       "      <th>0</th>\n",
       "      <td>0.257000</td>\n",
       "      <td>0.671</td>\n",
       "      <td>0.373</td>\n",
       "      <td>9</td>\n",
       "      <td>-18.064</td>\n",
       "      <td>1</td>\n",
       "      <td>0.000080</td>\n",
       "      <td>0.0481</td>\n",
       "      <td>0.732</td>\n",
       "      <td>92.717</td>\n",
       "      <td>4</td>\n",
       "      <td>Varias (80s,90s...)</td>\n",
       "    </tr>\n",
       "    <tr>\n",
       "      <th>1</th>\n",
       "      <td>0.007830</td>\n",
       "      <td>0.473</td>\n",
       "      <td>0.898</td>\n",
       "      <td>6</td>\n",
       "      <td>-4.797</td>\n",
       "      <td>0</td>\n",
       "      <td>0.061800</td>\n",
       "      <td>0.1730</td>\n",
       "      <td>0.808</td>\n",
       "      <td>96.556</td>\n",
       "      <td>4</td>\n",
       "      <td>Varias (80s,90s...)</td>\n",
       "    </tr>\n",
       "    <tr>\n",
       "      <th>2</th>\n",
       "      <td>0.021300</td>\n",
       "      <td>0.384</td>\n",
       "      <td>0.512</td>\n",
       "      <td>7</td>\n",
       "      <td>-13.035</td>\n",
       "      <td>0</td>\n",
       "      <td>0.000139</td>\n",
       "      <td>0.2050</td>\n",
       "      <td>0.739</td>\n",
       "      <td>78.442</td>\n",
       "      <td>4</td>\n",
       "      <td>Varias (80s,90s...)</td>\n",
       "    </tr>\n",
       "    <tr>\n",
       "      <th>3</th>\n",
       "      <td>0.000128</td>\n",
       "      <td>0.546</td>\n",
       "      <td>0.485</td>\n",
       "      <td>2</td>\n",
       "      <td>-9.424</td>\n",
       "      <td>1</td>\n",
       "      <td>0.318000</td>\n",
       "      <td>0.0939</td>\n",
       "      <td>0.106</td>\n",
       "      <td>109.913</td>\n",
       "      <td>4</td>\n",
       "      <td>Varias (80s,90s...)</td>\n",
       "    </tr>\n",
       "    <tr>\n",
       "      <th>4</th>\n",
       "      <td>0.022500</td>\n",
       "      <td>0.541</td>\n",
       "      <td>0.914</td>\n",
       "      <td>2</td>\n",
       "      <td>-6.727</td>\n",
       "      <td>1</td>\n",
       "      <td>0.000441</td>\n",
       "      <td>0.3530</td>\n",
       "      <td>0.449</td>\n",
       "      <td>136.282</td>\n",
       "      <td>4</td>\n",
       "      <td>Varias (80s,90s...)</td>\n",
       "    </tr>\n",
       "  </tbody>\n",
       "</table>\n",
       "</div>"
      ],
      "text/plain": [
       "   acousticness  danceability  energy  key  loudness  mode  instrumentalness  \\\n",
       "0      0.257000         0.671   0.373    9   -18.064     1          0.000080   \n",
       "1      0.007830         0.473   0.898    6    -4.797     0          0.061800   \n",
       "2      0.021300         0.384   0.512    7   -13.035     0          0.000139   \n",
       "3      0.000128         0.546   0.485    2    -9.424     1          0.318000   \n",
       "4      0.022500         0.541   0.914    2    -6.727     1          0.000441   \n",
       "\n",
       "   liveness  valence    tempo  time_signature             playlist  \n",
       "0    0.0481    0.732   92.717               4  Varias (80s,90s...)  \n",
       "1    0.1730    0.808   96.556               4  Varias (80s,90s...)  \n",
       "2    0.2050    0.739   78.442               4  Varias (80s,90s...)  \n",
       "3    0.0939    0.106  109.913               4  Varias (80s,90s...)  \n",
       "4    0.3530    0.449  136.282               4  Varias (80s,90s...)  "
      ]
     },
     "execution_count": 25,
     "metadata": {},
     "output_type": "execute_result"
    }
   ],
   "source": [
    "df.head()"
   ]
  },
  {
   "cell_type": "markdown",
   "metadata": {},
   "source": [
    "#### Varias"
   ]
  },
  {
   "cell_type": "code",
   "execution_count": 26,
   "metadata": {},
   "outputs": [],
   "source": [
    "varias_2 = get_attribute2(varias)"
   ]
  },
  {
   "cell_type": "markdown",
   "metadata": {},
   "source": [
    "### Rock"
   ]
  },
  {
   "cell_type": "code",
   "execution_count": 27,
   "metadata": {},
   "outputs": [],
   "source": [
    "salsa_2 = get_attribute2(salsa)"
   ]
  },
  {
   "cell_type": "markdown",
   "metadata": {},
   "source": [
    "### Electronic"
   ]
  },
  {
   "cell_type": "code",
   "execution_count": 28,
   "metadata": {},
   "outputs": [],
   "source": [
    "electronic_2 = get_attribute2(Electronic)"
   ]
  },
  {
   "cell_type": "markdown",
   "metadata": {},
   "source": [
    "### Radar Chart before after data"
   ]
  },
  {
   "cell_type": "code",
   "execution_count": 29,
   "metadata": {},
   "outputs": [],
   "source": [
    "# Features column name\n",
    "new_features = ['acousticness', 'danceability', 'energy', 'instrumentalness', 'liveness', 'valence']\n",
    "\n",
    "categories2 = new_features"
   ]
  },
  {
   "cell_type": "code",
   "execution_count": 30,
   "metadata": {},
   "outputs": [],
   "source": [
    "# Features\n",
    "r_ = varias_2\n",
    "r1_ = salsa_2\n",
    "r2_ = electronic_2"
   ]
  },
  {
   "cell_type": "code",
   "execution_count": 31,
   "metadata": {},
   "outputs": [],
   "source": [
    "multi_radar(categories2, r_, r1_, r2_, playlists_names, 'Dis#2')"
   ]
  },
  {
   "cell_type": "markdown",
   "metadata": {},
   "source": [
    "### Encoding Key and time signature"
   ]
  },
  {
   "cell_type": "code",
   "execution_count": 32,
   "metadata": {},
   "outputs": [
    {
     "data": {
      "text/html": [
       "<div>\n",
       "<style scoped>\n",
       "    .dataframe tbody tr th:only-of-type {\n",
       "        vertical-align: middle;\n",
       "    }\n",
       "\n",
       "    .dataframe tbody tr th {\n",
       "        vertical-align: top;\n",
       "    }\n",
       "\n",
       "    .dataframe thead th {\n",
       "        text-align: right;\n",
       "    }\n",
       "</style>\n",
       "<table border=\"1\" class=\"dataframe\">\n",
       "  <thead>\n",
       "    <tr style=\"text-align: right;\">\n",
       "      <th></th>\n",
       "      <th>acousticness</th>\n",
       "      <th>danceability</th>\n",
       "      <th>energy</th>\n",
       "      <th>loudness</th>\n",
       "      <th>mode</th>\n",
       "      <th>instrumentalness</th>\n",
       "      <th>liveness</th>\n",
       "      <th>valence</th>\n",
       "      <th>tempo</th>\n",
       "      <th>key_0</th>\n",
       "      <th>...</th>\n",
       "      <th>key_5</th>\n",
       "      <th>key_6</th>\n",
       "      <th>key_7</th>\n",
       "      <th>key_8</th>\n",
       "      <th>key_9</th>\n",
       "      <th>key_10</th>\n",
       "      <th>key_11</th>\n",
       "      <th>time_signature_3</th>\n",
       "      <th>time_signature_4</th>\n",
       "      <th>time_signature_5</th>\n",
       "    </tr>\n",
       "  </thead>\n",
       "  <tbody>\n",
       "    <tr>\n",
       "      <th>0</th>\n",
       "      <td>0.257000</td>\n",
       "      <td>0.671</td>\n",
       "      <td>0.373</td>\n",
       "      <td>-18.064</td>\n",
       "      <td>1</td>\n",
       "      <td>0.000080</td>\n",
       "      <td>0.0481</td>\n",
       "      <td>0.732</td>\n",
       "      <td>92.717</td>\n",
       "      <td>0</td>\n",
       "      <td>...</td>\n",
       "      <td>0</td>\n",
       "      <td>0</td>\n",
       "      <td>0</td>\n",
       "      <td>0</td>\n",
       "      <td>1</td>\n",
       "      <td>0</td>\n",
       "      <td>0</td>\n",
       "      <td>0</td>\n",
       "      <td>1</td>\n",
       "      <td>0</td>\n",
       "    </tr>\n",
       "    <tr>\n",
       "      <th>1</th>\n",
       "      <td>0.007830</td>\n",
       "      <td>0.473</td>\n",
       "      <td>0.898</td>\n",
       "      <td>-4.797</td>\n",
       "      <td>0</td>\n",
       "      <td>0.061800</td>\n",
       "      <td>0.1730</td>\n",
       "      <td>0.808</td>\n",
       "      <td>96.556</td>\n",
       "      <td>0</td>\n",
       "      <td>...</td>\n",
       "      <td>0</td>\n",
       "      <td>1</td>\n",
       "      <td>0</td>\n",
       "      <td>0</td>\n",
       "      <td>0</td>\n",
       "      <td>0</td>\n",
       "      <td>0</td>\n",
       "      <td>0</td>\n",
       "      <td>1</td>\n",
       "      <td>0</td>\n",
       "    </tr>\n",
       "    <tr>\n",
       "      <th>2</th>\n",
       "      <td>0.021300</td>\n",
       "      <td>0.384</td>\n",
       "      <td>0.512</td>\n",
       "      <td>-13.035</td>\n",
       "      <td>0</td>\n",
       "      <td>0.000139</td>\n",
       "      <td>0.2050</td>\n",
       "      <td>0.739</td>\n",
       "      <td>78.442</td>\n",
       "      <td>0</td>\n",
       "      <td>...</td>\n",
       "      <td>0</td>\n",
       "      <td>0</td>\n",
       "      <td>1</td>\n",
       "      <td>0</td>\n",
       "      <td>0</td>\n",
       "      <td>0</td>\n",
       "      <td>0</td>\n",
       "      <td>0</td>\n",
       "      <td>1</td>\n",
       "      <td>0</td>\n",
       "    </tr>\n",
       "    <tr>\n",
       "      <th>3</th>\n",
       "      <td>0.000128</td>\n",
       "      <td>0.546</td>\n",
       "      <td>0.485</td>\n",
       "      <td>-9.424</td>\n",
       "      <td>1</td>\n",
       "      <td>0.318000</td>\n",
       "      <td>0.0939</td>\n",
       "      <td>0.106</td>\n",
       "      <td>109.913</td>\n",
       "      <td>0</td>\n",
       "      <td>...</td>\n",
       "      <td>0</td>\n",
       "      <td>0</td>\n",
       "      <td>0</td>\n",
       "      <td>0</td>\n",
       "      <td>0</td>\n",
       "      <td>0</td>\n",
       "      <td>0</td>\n",
       "      <td>0</td>\n",
       "      <td>1</td>\n",
       "      <td>0</td>\n",
       "    </tr>\n",
       "    <tr>\n",
       "      <th>4</th>\n",
       "      <td>0.022500</td>\n",
       "      <td>0.541</td>\n",
       "      <td>0.914</td>\n",
       "      <td>-6.727</td>\n",
       "      <td>1</td>\n",
       "      <td>0.000441</td>\n",
       "      <td>0.3530</td>\n",
       "      <td>0.449</td>\n",
       "      <td>136.282</td>\n",
       "      <td>0</td>\n",
       "      <td>...</td>\n",
       "      <td>0</td>\n",
       "      <td>0</td>\n",
       "      <td>0</td>\n",
       "      <td>0</td>\n",
       "      <td>0</td>\n",
       "      <td>0</td>\n",
       "      <td>0</td>\n",
       "      <td>0</td>\n",
       "      <td>1</td>\n",
       "      <td>0</td>\n",
       "    </tr>\n",
       "  </tbody>\n",
       "</table>\n",
       "<p>5 rows × 24 columns</p>\n",
       "</div>"
      ],
      "text/plain": [
       "   acousticness  danceability  energy  loudness  mode  instrumentalness  \\\n",
       "0      0.257000         0.671   0.373   -18.064     1          0.000080   \n",
       "1      0.007830         0.473   0.898    -4.797     0          0.061800   \n",
       "2      0.021300         0.384   0.512   -13.035     0          0.000139   \n",
       "3      0.000128         0.546   0.485    -9.424     1          0.318000   \n",
       "4      0.022500         0.541   0.914    -6.727     1          0.000441   \n",
       "\n",
       "   liveness  valence    tempo  key_0  ...  key_5  key_6  key_7  key_8  key_9  \\\n",
       "0    0.0481    0.732   92.717      0  ...      0      0      0      0      1   \n",
       "1    0.1730    0.808   96.556      0  ...      0      1      0      0      0   \n",
       "2    0.2050    0.739   78.442      0  ...      0      0      1      0      0   \n",
       "3    0.0939    0.106  109.913      0  ...      0      0      0      0      0   \n",
       "4    0.3530    0.449  136.282      0  ...      0      0      0      0      0   \n",
       "\n",
       "   key_10  key_11  time_signature_3  time_signature_4  time_signature_5  \n",
       "0       0       0                 0                 1                 0  \n",
       "1       0       0                 0                 1                 0  \n",
       "2       0       0                 0                 1                 0  \n",
       "3       0       0                 0                 1                 0  \n",
       "4       0       0                 0                 1                 0  \n",
       "\n",
       "[5 rows x 24 columns]"
      ]
     },
     "execution_count": 32,
     "metadata": {},
     "output_type": "execute_result"
    }
   ],
   "source": [
    "# for dummy variable encoding for key\n",
    "\n",
    "xs = pd.get_dummies(df, columns=['key', 'time_signature'])\n",
    "\n",
    "# Removing Y label \n",
    "\n",
    "xs.drop(['playlist'], axis=1, inplace=True)\n",
    "\n",
    "\n",
    "xs.head()"
   ]
  },
  {
   "cell_type": "code",
   "execution_count": 33,
   "metadata": {},
   "outputs": [
    {
     "data": {
      "text/plain": [
       "Index(['acousticness', 'danceability', 'energy', 'loudness', 'mode',\n",
       "       'instrumentalness', 'liveness', 'valence', 'tempo', 'key_0', 'key_1',\n",
       "       'key_2', 'key_3', 'key_4', 'key_5', 'key_6', 'key_7', 'key_8', 'key_9',\n",
       "       'key_10', 'key_11', 'time_signature_3', 'time_signature_4',\n",
       "       'time_signature_5'],\n",
       "      dtype='object')"
      ]
     },
     "execution_count": 33,
     "metadata": {},
     "output_type": "execute_result"
    }
   ],
   "source": [
    "xs.columns"
   ]
  },
  {
   "cell_type": "markdown",
   "metadata": {},
   "source": [
    "### Encoding the playlist dependent variable"
   ]
  },
  {
   "cell_type": "code",
   "execution_count": 34,
   "metadata": {},
   "outputs": [],
   "source": [
    "genre_list = df.iloc[:, -1]"
   ]
  },
  {
   "cell_type": "code",
   "execution_count": 35,
   "metadata": {},
   "outputs": [],
   "source": [
    "encoder = LabelEncoder()\n",
    "y = encoder.fit_transform(genre_list)"
   ]
  },
  {
   "cell_type": "markdown",
   "metadata": {},
   "source": [
    "### Dividing data into training and Testing set"
   ]
  },
  {
   "cell_type": "code",
   "execution_count": 36,
   "metadata": {},
   "outputs": [],
   "source": [
    "X_train, X_test, y_train, y_test = train_test_split(xs, y, test_size=0.2)"
   ]
  },
  {
   "cell_type": "code",
   "execution_count": 37,
   "metadata": {},
   "outputs": [],
   "source": [
    "X_train = X_train.astype(float)\n",
    "X_test = X_test.astype(float)"
   ]
  },
  {
   "cell_type": "code",
   "execution_count": 38,
   "metadata": {},
   "outputs": [
    {
     "name": "stdout",
     "output_type": "stream",
     "text": [
      "X Train data shape:  (1313, 24)\n",
      "X Test data shape:  (329, 24)\n",
      "Y Train data shape:  (1313,)\n",
      "Y Test data shape:  (329,)\n"
     ]
    }
   ],
   "source": [
    "print('X Train data shape: ', X_train.shape)\n",
    "print('X Test data shape: ', X_test.shape)\n",
    "print('Y Train data shape: ', y_train.shape)\n",
    "print('Y Test data shape: ', y_test.shape)"
   ]
  },
  {
   "cell_type": "code",
   "execution_count": 39,
   "metadata": {},
   "outputs": [
    {
     "data": {
      "text/plain": [
       "24"
      ]
     },
     "execution_count": 39,
     "metadata": {},
     "output_type": "execute_result"
    }
   ],
   "source": [
    "X_train.shape[1]"
   ]
  },
  {
   "cell_type": "markdown",
   "metadata": {},
   "source": [
    "## CNN Architecture"
   ]
  },
  {
   "cell_type": "code",
   "execution_count": 40,
   "metadata": {},
   "outputs": [],
   "source": [
    "# Define the CNN \n",
    "\n",
    "NN = models.Sequential(name='Cool CNN')"
   ]
  },
  {
   "cell_type": "markdown",
   "metadata": {},
   "source": [
    "### Building our Network"
   ]
  },
  {
   "cell_type": "code",
   "execution_count": 41,
   "metadata": {},
   "outputs": [],
   "source": [
    "# Layers\n",
    "\n",
    "NN.add(layers.Dense(256, activation='relu', input_shape=(X_train.shape[1],)))\n",
    "\n",
    "NN.add(layers.Dense(128, activation='relu'))\n",
    "\n",
    "NN.add(layers.Dense(64, activation='relu'))"
   ]
  },
  {
   "cell_type": "code",
   "execution_count": 42,
   "metadata": {},
   "outputs": [],
   "source": [
    "#CNN.add(Flatten())\n",
    "\n",
    "NN.add(layers.Dense(32, activation='relu'))\n",
    "\n",
    "NN.add(layers.Dense(3, activation='softmax'))"
   ]
  },
  {
   "cell_type": "markdown",
   "metadata": {},
   "source": [
    "### Compile the Model"
   ]
  },
  {
   "cell_type": "code",
   "execution_count": 43,
   "metadata": {},
   "outputs": [
    {
     "name": "stdout",
     "output_type": "stream",
     "text": [
      "Model: \"Cool CNN\"\n",
      "_________________________________________________________________\n",
      "Layer (type)                 Output Shape              Param #   \n",
      "=================================================================\n",
      "dense_1 (Dense)              (None, 256)               6400      \n",
      "_________________________________________________________________\n",
      "dense_2 (Dense)              (None, 128)               32896     \n",
      "_________________________________________________________________\n",
      "dense_3 (Dense)              (None, 64)                8256      \n",
      "_________________________________________________________________\n",
      "dense_4 (Dense)              (None, 32)                2080      \n",
      "_________________________________________________________________\n",
      "dense_5 (Dense)              (None, 3)                 99        \n",
      "=================================================================\n",
      "Total params: 49,731\n",
      "Trainable params: 49,731\n",
      "Non-trainable params: 0\n",
      "_________________________________________________________________\n",
      "None\n",
      "\n",
      "\t -------------------- Compiled! --------------------\n"
     ]
    }
   ],
   "source": [
    "NN.compile(optimizer='adam',\n",
    "              loss='sparse_categorical_crossentropy',\n",
    "              metrics=['accuracy'])\n",
    "\n",
    "print(NN.summary())\n",
    "print('\\n\\t -------------------- Compiled! --------------------')"
   ]
  },
  {
   "cell_type": "markdown",
   "metadata": {},
   "source": [
    "### Training the Model"
   ]
  },
  {
   "cell_type": "code",
   "execution_count": 44,
   "metadata": {},
   "outputs": [
    {
     "name": "stdout",
     "output_type": "stream",
     "text": [
      "Train on 1313 samples, validate on 329 samples\n",
      "Epoch 1/100\n",
      "1313/1313 [==============================] - 0s 330us/step - loss: 1.2916 - accuracy: 0.3374 - val_loss: 1.4119 - val_accuracy: 0.3313\n",
      "Epoch 2/100\n",
      "1313/1313 [==============================] - 0s 68us/step - loss: 1.2200 - accuracy: 0.3465 - val_loss: 1.0613 - val_accuracy: 0.3465\n",
      "Epoch 3/100\n",
      "1313/1313 [==============================] - 0s 74us/step - loss: 1.1222 - accuracy: 0.3953 - val_loss: 1.0470 - val_accuracy: 0.4286\n",
      "Epoch 4/100\n",
      "1313/1313 [==============================] - 0s 73us/step - loss: 1.0579 - accuracy: 0.4562 - val_loss: 1.0360 - val_accuracy: 0.4012\n",
      "Epoch 5/100\n",
      "1313/1313 [==============================] - 0s 71us/step - loss: 1.0195 - accuracy: 0.5072 - val_loss: 0.9909 - val_accuracy: 0.5562\n",
      "Epoch 6/100\n",
      "1313/1313 [==============================] - 0s 77us/step - loss: 0.9866 - accuracy: 0.5050 - val_loss: 1.0987 - val_accuracy: 0.3556\n",
      "Epoch 7/100\n",
      "1313/1313 [==============================] - 0s 75us/step - loss: 1.0041 - accuracy: 0.4897 - val_loss: 1.1403 - val_accuracy: 0.3982\n",
      "Epoch 8/100\n",
      "1313/1313 [==============================] - 0s 71us/step - loss: 0.9636 - accuracy: 0.5468 - val_loss: 0.8507 - val_accuracy: 0.6292\n",
      "Epoch 9/100\n",
      "1313/1313 [==============================] - 0s 58us/step - loss: 0.8739 - accuracy: 0.5979 - val_loss: 1.0318 - val_accuracy: 0.4742\n",
      "Epoch 10/100\n",
      "1313/1313 [==============================] - 0s 61us/step - loss: 0.7645 - accuracy: 0.6740 - val_loss: 0.8760 - val_accuracy: 0.5684\n",
      "Epoch 11/100\n",
      "1313/1313 [==============================] - 0s 65us/step - loss: 0.7730 - accuracy: 0.6504 - val_loss: 0.7650 - val_accuracy: 0.6596\n",
      "Epoch 12/100\n",
      "1313/1313 [==============================] - 0s 60us/step - loss: 0.6471 - accuracy: 0.7228 - val_loss: 0.6769 - val_accuracy: 0.7112\n",
      "Epoch 13/100\n",
      "1313/1313 [==============================] - 0s 55us/step - loss: 0.6018 - accuracy: 0.7441 - val_loss: 0.6858 - val_accuracy: 0.6900\n",
      "Epoch 14/100\n",
      "1313/1313 [==============================] - 0s 55us/step - loss: 0.6741 - accuracy: 0.7129 - val_loss: 0.6764 - val_accuracy: 0.7082\n",
      "Epoch 15/100\n",
      "1313/1313 [==============================] - 0s 60us/step - loss: 0.6713 - accuracy: 0.7007 - val_loss: 0.6391 - val_accuracy: 0.7173\n",
      "Epoch 16/100\n",
      "1313/1313 [==============================] - 0s 62us/step - loss: 0.5591 - accuracy: 0.7586 - val_loss: 0.6263 - val_accuracy: 0.7264\n",
      "Epoch 17/100\n",
      "1313/1313 [==============================] - 0s 57us/step - loss: 0.5538 - accuracy: 0.7647 - val_loss: 0.8120 - val_accuracy: 0.6565\n",
      "Epoch 18/100\n",
      "1313/1313 [==============================] - 0s 63us/step - loss: 0.6123 - accuracy: 0.7449 - val_loss: 0.5831 - val_accuracy: 0.7629\n",
      "Epoch 19/100\n",
      "1313/1313 [==============================] - 0s 62us/step - loss: 0.5124 - accuracy: 0.7906 - val_loss: 0.6945 - val_accuracy: 0.6717\n",
      "Epoch 20/100\n",
      "1313/1313 [==============================] - 0s 67us/step - loss: 0.5095 - accuracy: 0.7814 - val_loss: 0.6038 - val_accuracy: 0.7386\n",
      "Epoch 21/100\n",
      "1313/1313 [==============================] - 0s 74us/step - loss: 0.4920 - accuracy: 0.7959 - val_loss: 0.6269 - val_accuracy: 0.7356\n",
      "Epoch 22/100\n",
      "1313/1313 [==============================] - 0s 68us/step - loss: 0.5055 - accuracy: 0.7860 - val_loss: 0.5637 - val_accuracy: 0.7568\n",
      "Epoch 23/100\n",
      "1313/1313 [==============================] - 0s 65us/step - loss: 0.4956 - accuracy: 0.7951 - val_loss: 0.5643 - val_accuracy: 0.7751\n",
      "Epoch 24/100\n",
      "1313/1313 [==============================] - 0s 61us/step - loss: 0.5174 - accuracy: 0.7753 - val_loss: 0.7530 - val_accuracy: 0.7021\n",
      "Epoch 25/100\n",
      "1313/1313 [==============================] - 0s 68us/step - loss: 0.5168 - accuracy: 0.7875 - val_loss: 1.1871 - val_accuracy: 0.5623\n",
      "Epoch 26/100\n",
      "1313/1313 [==============================] - 0s 55us/step - loss: 0.7530 - accuracy: 0.6756 - val_loss: 0.6439 - val_accuracy: 0.7204\n",
      "Epoch 27/100\n",
      "1313/1313 [==============================] - 0s 61us/step - loss: 0.5333 - accuracy: 0.7768 - val_loss: 0.5724 - val_accuracy: 0.7416\n",
      "Epoch 28/100\n",
      "1313/1313 [==============================] - 0s 65us/step - loss: 0.4876 - accuracy: 0.7997 - val_loss: 0.5722 - val_accuracy: 0.7538\n",
      "Epoch 29/100\n",
      "1313/1313 [==============================] - 0s 56us/step - loss: 0.4837 - accuracy: 0.7966 - val_loss: 0.5444 - val_accuracy: 0.7751\n",
      "Epoch 30/100\n",
      "1313/1313 [==============================] - 0s 62us/step - loss: 0.4950 - accuracy: 0.7944 - val_loss: 0.6645 - val_accuracy: 0.6991\n",
      "Epoch 31/100\n",
      "1313/1313 [==============================] - 0s 73us/step - loss: 0.5563 - accuracy: 0.7723 - val_loss: 0.6092 - val_accuracy: 0.7356\n",
      "Epoch 32/100\n",
      "1313/1313 [==============================] - 0s 67us/step - loss: 0.5289 - accuracy: 0.7746 - val_loss: 0.5786 - val_accuracy: 0.7447\n",
      "Epoch 33/100\n",
      "1313/1313 [==============================] - 0s 73us/step - loss: 0.5194 - accuracy: 0.7883 - val_loss: 0.6695 - val_accuracy: 0.7143\n",
      "Epoch 34/100\n",
      "1313/1313 [==============================] - 0s 71us/step - loss: 0.4827 - accuracy: 0.7936 - val_loss: 0.5512 - val_accuracy: 0.7720\n",
      "Epoch 35/100\n",
      "1313/1313 [==============================] - 0s 55us/step - loss: 0.4821 - accuracy: 0.8020 - val_loss: 1.0355 - val_accuracy: 0.6170\n",
      "Epoch 36/100\n",
      "1313/1313 [==============================] - 0s 55us/step - loss: 0.6014 - accuracy: 0.7517 - val_loss: 0.5774 - val_accuracy: 0.7386\n",
      "Epoch 37/100\n",
      "1313/1313 [==============================] - 0s 62us/step - loss: 0.4897 - accuracy: 0.7913 - val_loss: 0.5979 - val_accuracy: 0.7508\n",
      "Epoch 38/100\n",
      "1313/1313 [==============================] - 0s 66us/step - loss: 0.4680 - accuracy: 0.8035 - val_loss: 0.5464 - val_accuracy: 0.7660\n",
      "Epoch 39/100\n",
      "1313/1313 [==============================] - 0s 65us/step - loss: 0.4833 - accuracy: 0.7959 - val_loss: 0.6162 - val_accuracy: 0.7416\n",
      "Epoch 40/100\n",
      "1313/1313 [==============================] - 0s 68us/step - loss: 0.4531 - accuracy: 0.8126 - val_loss: 0.6113 - val_accuracy: 0.7356\n",
      "Epoch 41/100\n",
      "1313/1313 [==============================] - 0s 65us/step - loss: 0.4589 - accuracy: 0.8165 - val_loss: 0.5590 - val_accuracy: 0.7599\n",
      "Epoch 42/100\n",
      "1313/1313 [==============================] - 0s 65us/step - loss: 0.4818 - accuracy: 0.7913 - val_loss: 0.5807 - val_accuracy: 0.7660\n",
      "Epoch 43/100\n",
      "1313/1313 [==============================] - 0s 71us/step - loss: 0.4736 - accuracy: 0.8005 - val_loss: 0.5304 - val_accuracy: 0.7842\n",
      "Epoch 44/100\n",
      "1313/1313 [==============================] - 0s 69us/step - loss: 0.4614 - accuracy: 0.8088 - val_loss: 0.5747 - val_accuracy: 0.7508\n",
      "Epoch 45/100\n",
      "1313/1313 [==============================] - 0s 69us/step - loss: 0.4806 - accuracy: 0.8043 - val_loss: 0.6030 - val_accuracy: 0.7204\n",
      "Epoch 46/100\n",
      "1313/1313 [==============================] - 0s 71us/step - loss: 0.4725 - accuracy: 0.7997 - val_loss: 0.5509 - val_accuracy: 0.7629\n",
      "Epoch 47/100\n",
      "1313/1313 [==============================] - 0s 74us/step - loss: 0.4538 - accuracy: 0.8005 - val_loss: 0.6073 - val_accuracy: 0.7538\n",
      "Epoch 48/100\n",
      "1313/1313 [==============================] - 0s 70us/step - loss: 0.4888 - accuracy: 0.7860 - val_loss: 0.7861 - val_accuracy: 0.6778\n",
      "Epoch 49/100\n",
      "1313/1313 [==============================] - 0s 76us/step - loss: 0.5162 - accuracy: 0.7829 - val_loss: 0.5640 - val_accuracy: 0.7690\n",
      "Epoch 50/100\n",
      "1313/1313 [==============================] - 0s 73us/step - loss: 0.4607 - accuracy: 0.8104 - val_loss: 0.5402 - val_accuracy: 0.7812\n",
      "Epoch 51/100\n",
      "1313/1313 [==============================] - 0s 64us/step - loss: 0.4374 - accuracy: 0.8187 - val_loss: 0.5719 - val_accuracy: 0.7690\n",
      "Epoch 52/100\n",
      "1313/1313 [==============================] - 0s 64us/step - loss: 0.4888 - accuracy: 0.8058 - val_loss: 0.5282 - val_accuracy: 0.7751\n",
      "Epoch 53/100\n",
      "1313/1313 [==============================] - 0s 57us/step - loss: 0.4496 - accuracy: 0.8111 - val_loss: 0.5227 - val_accuracy: 0.7812\n",
      "Epoch 54/100\n",
      "1313/1313 [==============================] - 0s 62us/step - loss: 0.4548 - accuracy: 0.8111 - val_loss: 0.5726 - val_accuracy: 0.7477\n",
      "Epoch 55/100\n",
      "1313/1313 [==============================] - 0s 74us/step - loss: 0.4571 - accuracy: 0.8043 - val_loss: 0.5553 - val_accuracy: 0.7660\n",
      "Epoch 56/100\n",
      "1313/1313 [==============================] - 0s 71us/step - loss: 0.4297 - accuracy: 0.8195 - val_loss: 0.5513 - val_accuracy: 0.7842\n",
      "Epoch 57/100\n",
      "1313/1313 [==============================] - 0s 78us/step - loss: 0.4495 - accuracy: 0.8088 - val_loss: 0.5141 - val_accuracy: 0.8055\n",
      "Epoch 58/100\n",
      "1313/1313 [==============================] - 0s 70us/step - loss: 0.5518 - accuracy: 0.7593 - val_loss: 0.5392 - val_accuracy: 0.7842\n",
      "Epoch 59/100\n",
      "1313/1313 [==============================] - 0s 71us/step - loss: 0.5125 - accuracy: 0.7906 - val_loss: 0.5793 - val_accuracy: 0.7477\n",
      "Epoch 60/100\n",
      "1313/1313 [==============================] - 0s 73us/step - loss: 0.4467 - accuracy: 0.8043 - val_loss: 0.5361 - val_accuracy: 0.7933\n",
      "Epoch 61/100\n",
      "1313/1313 [==============================] - 0s 60us/step - loss: 0.4767 - accuracy: 0.7997 - val_loss: 0.5314 - val_accuracy: 0.7751\n",
      "Epoch 62/100\n",
      "1313/1313 [==============================] - 0s 65us/step - loss: 0.5724 - accuracy: 0.7540 - val_loss: 0.5702 - val_accuracy: 0.7599\n",
      "Epoch 63/100\n",
      "1313/1313 [==============================] - 0s 62us/step - loss: 0.4428 - accuracy: 0.8149 - val_loss: 0.5184 - val_accuracy: 0.7842\n",
      "Epoch 64/100\n",
      "1313/1313 [==============================] - 0s 56us/step - loss: 0.4606 - accuracy: 0.8088 - val_loss: 0.5510 - val_accuracy: 0.7781\n",
      "Epoch 65/100\n",
      "1313/1313 [==============================] - 0s 62us/step - loss: 0.5880 - accuracy: 0.7532 - val_loss: 0.5247 - val_accuracy: 0.7872\n",
      "Epoch 66/100\n",
      "1313/1313 [==============================] - 0s 63us/step - loss: 0.4373 - accuracy: 0.8203 - val_loss: 0.5798 - val_accuracy: 0.7477\n",
      "Epoch 67/100\n",
      "1313/1313 [==============================] - 0s 59us/step - loss: 0.4472 - accuracy: 0.8157 - val_loss: 0.5342 - val_accuracy: 0.7751\n",
      "Epoch 68/100\n",
      "1313/1313 [==============================] - 0s 58us/step - loss: 0.4339 - accuracy: 0.8187 - val_loss: 0.5652 - val_accuracy: 0.7599\n",
      "Epoch 69/100\n",
      "1313/1313 [==============================] - 0s 65us/step - loss: 0.4563 - accuracy: 0.8065 - val_loss: 0.5456 - val_accuracy: 0.7599\n",
      "Epoch 70/100\n",
      "1313/1313 [==============================] - 0s 71us/step - loss: 0.4596 - accuracy: 0.8043 - val_loss: 0.5622 - val_accuracy: 0.7690\n",
      "Epoch 71/100\n",
      "1313/1313 [==============================] - 0s 55us/step - loss: 0.4594 - accuracy: 0.8104 - val_loss: 0.5125 - val_accuracy: 0.8085\n",
      "Epoch 72/100\n",
      "1313/1313 [==============================] - 0s 63us/step - loss: 0.4286 - accuracy: 0.8203 - val_loss: 0.5117 - val_accuracy: 0.7933\n",
      "Epoch 73/100\n",
      "1313/1313 [==============================] - 0s 63us/step - loss: 0.4258 - accuracy: 0.8157 - val_loss: 0.5211 - val_accuracy: 0.7994\n",
      "Epoch 74/100\n",
      "1313/1313 [==============================] - 0s 65us/step - loss: 0.4515 - accuracy: 0.8119 - val_loss: 0.5945 - val_accuracy: 0.7477\n",
      "Epoch 75/100\n",
      "1313/1313 [==============================] - 0s 72us/step - loss: 0.4523 - accuracy: 0.8081 - val_loss: 0.5206 - val_accuracy: 0.7872\n",
      "Epoch 76/100\n",
      "1313/1313 [==============================] - 0s 71us/step - loss: 0.4419 - accuracy: 0.8104 - val_loss: 0.5071 - val_accuracy: 0.8024\n",
      "Epoch 77/100\n",
      "1313/1313 [==============================] - 0s 71us/step - loss: 0.4188 - accuracy: 0.8317 - val_loss: 0.5395 - val_accuracy: 0.7751\n",
      "Epoch 78/100\n",
      "1313/1313 [==============================] - 0s 70us/step - loss: 0.4215 - accuracy: 0.8203 - val_loss: 0.6798 - val_accuracy: 0.7264\n",
      "Epoch 79/100\n",
      "1313/1313 [==============================] - 0s 58us/step - loss: 0.4691 - accuracy: 0.8012 - val_loss: 0.5250 - val_accuracy: 0.7781\n",
      "Epoch 80/100\n",
      "1313/1313 [==============================] - 0s 82us/step - loss: 0.4663 - accuracy: 0.8050 - val_loss: 0.6885 - val_accuracy: 0.7234\n",
      "Epoch 81/100\n",
      "1313/1313 [==============================] - 0s 75us/step - loss: 0.4628 - accuracy: 0.8005 - val_loss: 0.5237 - val_accuracy: 0.7842\n",
      "Epoch 82/100\n",
      "1313/1313 [==============================] - 0s 69us/step - loss: 0.4484 - accuracy: 0.8073 - val_loss: 0.5366 - val_accuracy: 0.7720\n",
      "Epoch 83/100\n",
      "1313/1313 [==============================] - 0s 65us/step - loss: 0.4323 - accuracy: 0.8218 - val_loss: 0.5187 - val_accuracy: 0.7842\n",
      "Epoch 84/100\n",
      "1313/1313 [==============================] - 0s 80us/step - loss: 0.4236 - accuracy: 0.8286 - val_loss: 0.5733 - val_accuracy: 0.7629\n",
      "Epoch 85/100\n",
      "1313/1313 [==============================] - 0s 84us/step - loss: 0.4362 - accuracy: 0.8241 - val_loss: 0.5055 - val_accuracy: 0.7842\n",
      "Epoch 86/100\n",
      "1313/1313 [==============================] - 0s 117us/step - loss: 0.4145 - accuracy: 0.8294 - val_loss: 0.5350 - val_accuracy: 0.7781\n",
      "Epoch 87/100\n",
      "1313/1313 [==============================] - 0s 73us/step - loss: 0.4654 - accuracy: 0.7951 - val_loss: 0.5476 - val_accuracy: 0.7629\n",
      "Epoch 88/100\n",
      "1313/1313 [==============================] - 0s 76us/step - loss: 0.4226 - accuracy: 0.8172 - val_loss: 0.5176 - val_accuracy: 0.7903\n",
      "Epoch 89/100\n",
      "1313/1313 [==============================] - 0s 118us/step - loss: 0.4199 - accuracy: 0.8210 - val_loss: 0.5224 - val_accuracy: 0.8055\n",
      "Epoch 90/100\n",
      "1313/1313 [==============================] - 0s 72us/step - loss: 0.4316 - accuracy: 0.8203 - val_loss: 0.7107 - val_accuracy: 0.7234\n",
      "Epoch 91/100\n",
      "1313/1313 [==============================] - 0s 74us/step - loss: 0.4852 - accuracy: 0.8012 - val_loss: 0.5080 - val_accuracy: 0.7903\n",
      "Epoch 92/100\n",
      "1313/1313 [==============================] - 0s 86us/step - loss: 0.4164 - accuracy: 0.8241 - val_loss: 0.7873 - val_accuracy: 0.6991\n",
      "Epoch 93/100\n",
      "1313/1313 [==============================] - 0s 72us/step - loss: 0.6186 - accuracy: 0.7502 - val_loss: 0.5395 - val_accuracy: 0.7751\n",
      "Epoch 94/100\n",
      "1313/1313 [==============================] - 0s 68us/step - loss: 0.4320 - accuracy: 0.8225 - val_loss: 0.5112 - val_accuracy: 0.7842\n",
      "Epoch 95/100\n",
      "1313/1313 [==============================] - 0s 77us/step - loss: 0.4345 - accuracy: 0.8157 - val_loss: 0.6522 - val_accuracy: 0.7447\n",
      "Epoch 96/100\n",
      "1313/1313 [==============================] - 0s 80us/step - loss: 0.5088 - accuracy: 0.7913 - val_loss: 0.6510 - val_accuracy: 0.7143\n",
      "Epoch 97/100\n",
      "1313/1313 [==============================] - 0s 76us/step - loss: 0.4473 - accuracy: 0.8111 - val_loss: 0.5372 - val_accuracy: 0.7781\n",
      "Epoch 98/100\n",
      "1313/1313 [==============================] - 0s 84us/step - loss: 0.4292 - accuracy: 0.8248 - val_loss: 0.5532 - val_accuracy: 0.7508\n",
      "Epoch 99/100\n",
      "1313/1313 [==============================] - 0s 74us/step - loss: 0.4391 - accuracy: 0.8119 - val_loss: 0.5225 - val_accuracy: 0.7964\n",
      "Epoch 100/100\n",
      "1313/1313 [==============================] - 0s 72us/step - loss: 0.4279 - accuracy: 0.8149 - val_loss: 0.4973 - val_accuracy: 0.8024\n"
     ]
    }
   ],
   "source": [
    "model_history = NN.fit(X_train, y_train,\n",
    "                       batch_size = 32,\n",
    "                       epochs = 100,\n",
    "                       validation_data=(X_test, y_test),\n",
    "                       shuffle=True, verbose=1)"
   ]
  },
  {
   "cell_type": "markdown",
   "metadata": {},
   "source": [
    "### Analize training history and results"
   ]
  },
  {
   "cell_type": "code",
   "execution_count": 45,
   "metadata": {},
   "outputs": [],
   "source": [
    "def plot_hist(model_history):\n",
    "    fix,axs=plt.subplots(2,1,figsize=(20,8))\n",
    "    ax1 = axs[0]\n",
    "    ax1.plot(model_history.history['accuracy'])\n",
    "    ax1.plot(model_history.history['val_accuracy'],c='g')\n",
    "    ax1.set_title('Model accuracy',fontsize=16)\n",
    "    ax1.set_ylabel('Accuracy',fontsize=8)\n",
    "    ax1.set_xlabel('Epoch',fontsize=8)\n",
    "    ax1.grid(alpha=0.3)\n",
    "    ax1.legend(['Train', 'Test'], loc='upper left')\n",
    "\n",
    "\n",
    "    # # summarize history for loss\n",
    "    ax2 = axs[1]\n",
    "    ax2.plot(model_history.history['loss'],c='r')\n",
    "    ax2.plot(model_history.history['val_loss'],c='orange')\n",
    "    ax2.set_title('Model loss',fontsize=16)\n",
    "    ax2.set_ylabel('Accuracy',fontsize=8)\n",
    "    ax2.set_xlabel('Epoch',fontsize=8)\n",
    "    ax2.grid(alpha=0.3)\n",
    "    ax2.legend(['train', 'test'], loc='upper right')\n",
    "    plt.show()"
   ]
  },
  {
   "cell_type": "code",
   "execution_count": 46,
   "metadata": {},
   "outputs": [
    {
     "data": {
      "image/png": "[encoded data removed]",
      "text/plain": [
       "<Figure size 1440x576 with 2 Axes>"
      ]
     },
     "metadata": {
      "needs_background": "light"
     },
     "output_type": "display_data"
    }
   ],
   "source": [
    "plot_hist(model_history)"
   ]
  },
  {
   "cell_type": "code",
   "execution_count": 48,
   "metadata": {},
   "outputs": [
    {
     "name": "stdout",
     "output_type": "stream",
     "text": [
      "329/329 [==============================] - 0s 27us/step\n",
      "\n",
      "Test accuracy: 0.802431583404541\n",
      "Test loss:     0.49727878816946663\n"
     ]
    }
   ],
   "source": [
    "test_loss, test_acc = NN.evaluate(X_test, y_test)\n",
    "\n",
    "print('\\nTest accuracy:', test_acc)\n",
    "print('Test loss:    ', test_loss)"
   ]
  },
  {
   "cell_type": "code",
   "execution_count": 49,
   "metadata": {},
   "outputs": [],
   "source": [
    "# Make prediction.\n",
    "\n",
    "pred = NN.predict(X_test)"
   ]
  },
  {
   "cell_type": "code",
   "execution_count": 84,
   "metadata": {},
   "outputs": [
    {
     "data": {
      "text/plain": [
       "array([0.9819873 , 0.00122442, 0.01678819], dtype=float32)"
      ]
     },
     "execution_count": 84,
     "metadata": {},
     "output_type": "execute_result"
    }
   ],
   "source": [
    "pred[0]"
   ]
  },
  {
   "cell_type": "code",
   "execution_count": 87,
   "metadata": {},
   "outputs": [
    {
     "data": {
      "text/plain": [
       "1"
      ]
     },
     "execution_count": 87,
     "metadata": {},
     "output_type": "execute_result"
    }
   ],
   "source": [
    "np.argmax(pred[4])"
   ]
  },
  {
   "cell_type": "code",
   "execution_count": 88,
   "metadata": {},
   "outputs": [
    {
     "data": {
      "text/html": [
       "<div>\n",
       "<style scoped>\n",
       "    .dataframe tbody tr th:only-of-type {\n",
       "        vertical-align: middle;\n",
       "    }\n",
       "\n",
       "    .dataframe tbody tr th {\n",
       "        vertical-align: top;\n",
       "    }\n",
       "\n",
       "    .dataframe thead th {\n",
       "        text-align: right;\n",
       "    }\n",
       "</style>\n",
       "<table border=\"1\" class=\"dataframe\">\n",
       "  <thead>\n",
       "    <tr style=\"text-align: right;\">\n",
       "      <th></th>\n",
       "      <th>acousticness</th>\n",
       "      <th>danceability</th>\n",
       "      <th>energy</th>\n",
       "      <th>loudness</th>\n",
       "      <th>mode</th>\n",
       "      <th>instrumentalness</th>\n",
       "      <th>liveness</th>\n",
       "      <th>valence</th>\n",
       "      <th>tempo</th>\n",
       "      <th>key_0</th>\n",
       "      <th>...</th>\n",
       "      <th>key_5</th>\n",
       "      <th>key_6</th>\n",
       "      <th>key_7</th>\n",
       "      <th>key_8</th>\n",
       "      <th>key_9</th>\n",
       "      <th>key_10</th>\n",
       "      <th>key_11</th>\n",
       "      <th>time_signature_3</th>\n",
       "      <th>time_signature_4</th>\n",
       "      <th>time_signature_5</th>\n",
       "    </tr>\n",
       "  </thead>\n",
       "  <tbody>\n",
       "    <tr>\n",
       "      <th>1211</th>\n",
       "      <td>0.041600</td>\n",
       "      <td>0.610</td>\n",
       "      <td>0.824</td>\n",
       "      <td>-10.394</td>\n",
       "      <td>1.0</td>\n",
       "      <td>0.741000</td>\n",
       "      <td>0.6700</td>\n",
       "      <td>0.3480</td>\n",
       "      <td>147.985</td>\n",
       "      <td>0.0</td>\n",
       "      <td>...</td>\n",
       "      <td>0.0</td>\n",
       "      <td>0.0</td>\n",
       "      <td>0.0</td>\n",
       "      <td>0.0</td>\n",
       "      <td>0.0</td>\n",
       "      <td>0.0</td>\n",
       "      <td>0.0</td>\n",
       "      <td>0.0</td>\n",
       "      <td>1.0</td>\n",
       "      <td>0.0</td>\n",
       "    </tr>\n",
       "    <tr>\n",
       "      <th>1217</th>\n",
       "      <td>0.006180</td>\n",
       "      <td>0.650</td>\n",
       "      <td>0.642</td>\n",
       "      <td>-12.880</td>\n",
       "      <td>0.0</td>\n",
       "      <td>0.892000</td>\n",
       "      <td>0.0951</td>\n",
       "      <td>0.2770</td>\n",
       "      <td>120.001</td>\n",
       "      <td>0.0</td>\n",
       "      <td>...</td>\n",
       "      <td>1.0</td>\n",
       "      <td>0.0</td>\n",
       "      <td>0.0</td>\n",
       "      <td>0.0</td>\n",
       "      <td>0.0</td>\n",
       "      <td>0.0</td>\n",
       "      <td>0.0</td>\n",
       "      <td>0.0</td>\n",
       "      <td>1.0</td>\n",
       "      <td>0.0</td>\n",
       "    </tr>\n",
       "    <tr>\n",
       "      <th>925</th>\n",
       "      <td>0.193000</td>\n",
       "      <td>0.516</td>\n",
       "      <td>0.844</td>\n",
       "      <td>-4.369</td>\n",
       "      <td>1.0</td>\n",
       "      <td>0.000134</td>\n",
       "      <td>0.0315</td>\n",
       "      <td>0.9100</td>\n",
       "      <td>160.076</td>\n",
       "      <td>0.0</td>\n",
       "      <td>...</td>\n",
       "      <td>0.0</td>\n",
       "      <td>0.0</td>\n",
       "      <td>0.0</td>\n",
       "      <td>0.0</td>\n",
       "      <td>1.0</td>\n",
       "      <td>0.0</td>\n",
       "      <td>0.0</td>\n",
       "      <td>0.0</td>\n",
       "      <td>1.0</td>\n",
       "      <td>0.0</td>\n",
       "    </tr>\n",
       "    <tr>\n",
       "      <th>1582</th>\n",
       "      <td>0.000418</td>\n",
       "      <td>0.609</td>\n",
       "      <td>0.878</td>\n",
       "      <td>-6.809</td>\n",
       "      <td>0.0</td>\n",
       "      <td>0.815000</td>\n",
       "      <td>0.1320</td>\n",
       "      <td>0.0947</td>\n",
       "      <td>129.999</td>\n",
       "      <td>0.0</td>\n",
       "      <td>...</td>\n",
       "      <td>0.0</td>\n",
       "      <td>0.0</td>\n",
       "      <td>0.0</td>\n",
       "      <td>0.0</td>\n",
       "      <td>0.0</td>\n",
       "      <td>0.0</td>\n",
       "      <td>0.0</td>\n",
       "      <td>0.0</td>\n",
       "      <td>1.0</td>\n",
       "      <td>0.0</td>\n",
       "    </tr>\n",
       "    <tr>\n",
       "      <th>800</th>\n",
       "      <td>0.436000</td>\n",
       "      <td>0.548</td>\n",
       "      <td>0.789</td>\n",
       "      <td>-6.383</td>\n",
       "      <td>0.0</td>\n",
       "      <td>0.000164</td>\n",
       "      <td>0.1900</td>\n",
       "      <td>0.9200</td>\n",
       "      <td>179.966</td>\n",
       "      <td>0.0</td>\n",
       "      <td>...</td>\n",
       "      <td>0.0</td>\n",
       "      <td>0.0</td>\n",
       "      <td>0.0</td>\n",
       "      <td>0.0</td>\n",
       "      <td>0.0</td>\n",
       "      <td>0.0</td>\n",
       "      <td>0.0</td>\n",
       "      <td>0.0</td>\n",
       "      <td>1.0</td>\n",
       "      <td>0.0</td>\n",
       "    </tr>\n",
       "    <tr>\n",
       "      <th>...</th>\n",
       "      <td>...</td>\n",
       "      <td>...</td>\n",
       "      <td>...</td>\n",
       "      <td>...</td>\n",
       "      <td>...</td>\n",
       "      <td>...</td>\n",
       "      <td>...</td>\n",
       "      <td>...</td>\n",
       "      <td>...</td>\n",
       "      <td>...</td>\n",
       "      <td>...</td>\n",
       "      <td>...</td>\n",
       "      <td>...</td>\n",
       "      <td>...</td>\n",
       "      <td>...</td>\n",
       "      <td>...</td>\n",
       "      <td>...</td>\n",
       "      <td>...</td>\n",
       "      <td>...</td>\n",
       "      <td>...</td>\n",
       "      <td>...</td>\n",
       "    </tr>\n",
       "    <tr>\n",
       "      <th>764</th>\n",
       "      <td>0.295000</td>\n",
       "      <td>0.586</td>\n",
       "      <td>0.914</td>\n",
       "      <td>-3.862</td>\n",
       "      <td>0.0</td>\n",
       "      <td>0.000213</td>\n",
       "      <td>0.3330</td>\n",
       "      <td>0.9430</td>\n",
       "      <td>177.824</td>\n",
       "      <td>0.0</td>\n",
       "      <td>...</td>\n",
       "      <td>1.0</td>\n",
       "      <td>0.0</td>\n",
       "      <td>0.0</td>\n",
       "      <td>0.0</td>\n",
       "      <td>0.0</td>\n",
       "      <td>0.0</td>\n",
       "      <td>0.0</td>\n",
       "      <td>0.0</td>\n",
       "      <td>1.0</td>\n",
       "      <td>0.0</td>\n",
       "    </tr>\n",
       "    <tr>\n",
       "      <th>554</th>\n",
       "      <td>0.003090</td>\n",
       "      <td>0.664</td>\n",
       "      <td>0.613</td>\n",
       "      <td>-7.560</td>\n",
       "      <td>1.0</td>\n",
       "      <td>0.000128</td>\n",
       "      <td>0.1750</td>\n",
       "      <td>0.1930</td>\n",
       "      <td>96.600</td>\n",
       "      <td>1.0</td>\n",
       "      <td>...</td>\n",
       "      <td>0.0</td>\n",
       "      <td>0.0</td>\n",
       "      <td>0.0</td>\n",
       "      <td>0.0</td>\n",
       "      <td>0.0</td>\n",
       "      <td>0.0</td>\n",
       "      <td>0.0</td>\n",
       "      <td>1.0</td>\n",
       "      <td>0.0</td>\n",
       "      <td>0.0</td>\n",
       "    </tr>\n",
       "    <tr>\n",
       "      <th>776</th>\n",
       "      <td>0.488000</td>\n",
       "      <td>0.665</td>\n",
       "      <td>0.896</td>\n",
       "      <td>-3.860</td>\n",
       "      <td>0.0</td>\n",
       "      <td>0.000004</td>\n",
       "      <td>0.0471</td>\n",
       "      <td>0.9430</td>\n",
       "      <td>170.917</td>\n",
       "      <td>1.0</td>\n",
       "      <td>...</td>\n",
       "      <td>0.0</td>\n",
       "      <td>0.0</td>\n",
       "      <td>0.0</td>\n",
       "      <td>0.0</td>\n",
       "      <td>0.0</td>\n",
       "      <td>0.0</td>\n",
       "      <td>0.0</td>\n",
       "      <td>0.0</td>\n",
       "      <td>1.0</td>\n",
       "      <td>0.0</td>\n",
       "    </tr>\n",
       "    <tr>\n",
       "      <th>49</th>\n",
       "      <td>0.464000</td>\n",
       "      <td>0.621</td>\n",
       "      <td>0.144</td>\n",
       "      <td>-14.201</td>\n",
       "      <td>1.0</td>\n",
       "      <td>0.000000</td>\n",
       "      <td>0.1200</td>\n",
       "      <td>0.2550</td>\n",
       "      <td>91.354</td>\n",
       "      <td>0.0</td>\n",
       "      <td>...</td>\n",
       "      <td>0.0</td>\n",
       "      <td>1.0</td>\n",
       "      <td>0.0</td>\n",
       "      <td>0.0</td>\n",
       "      <td>0.0</td>\n",
       "      <td>0.0</td>\n",
       "      <td>0.0</td>\n",
       "      <td>0.0</td>\n",
       "      <td>1.0</td>\n",
       "      <td>0.0</td>\n",
       "    </tr>\n",
       "    <tr>\n",
       "      <th>1624</th>\n",
       "      <td>0.000125</td>\n",
       "      <td>0.804</td>\n",
       "      <td>0.869</td>\n",
       "      <td>-9.295</td>\n",
       "      <td>0.0</td>\n",
       "      <td>0.938000</td>\n",
       "      <td>0.1130</td>\n",
       "      <td>0.0996</td>\n",
       "      <td>123.025</td>\n",
       "      <td>0.0</td>\n",
       "      <td>...</td>\n",
       "      <td>0.0</td>\n",
       "      <td>0.0</td>\n",
       "      <td>0.0</td>\n",
       "      <td>0.0</td>\n",
       "      <td>0.0</td>\n",
       "      <td>1.0</td>\n",
       "      <td>0.0</td>\n",
       "      <td>0.0</td>\n",
       "      <td>1.0</td>\n",
       "      <td>0.0</td>\n",
       "    </tr>\n",
       "  </tbody>\n",
       "</table>\n",
       "<p>329 rows × 24 columns</p>\n",
       "</div>"
      ],
      "text/plain": [
       "      acousticness  danceability  energy  loudness  mode  instrumentalness  \\\n",
       "1211      0.041600         0.610   0.824   -10.394   1.0          0.741000   \n",
       "1217      0.006180         0.650   0.642   -12.880   0.0          0.892000   \n",
       "925       0.193000         0.516   0.844    -4.369   1.0          0.000134   \n",
       "1582      0.000418         0.609   0.878    -6.809   0.0          0.815000   \n",
       "800       0.436000         0.548   0.789    -6.383   0.0          0.000164   \n",
       "...            ...           ...     ...       ...   ...               ...   \n",
       "764       0.295000         0.586   0.914    -3.862   0.0          0.000213   \n",
       "554       0.003090         0.664   0.613    -7.560   1.0          0.000128   \n",
       "776       0.488000         0.665   0.896    -3.860   0.0          0.000004   \n",
       "49        0.464000         0.621   0.144   -14.201   1.0          0.000000   \n",
       "1624      0.000125         0.804   0.869    -9.295   0.0          0.938000   \n",
       "\n",
       "      liveness  valence    tempo  key_0  ...  key_5  key_6  key_7  key_8  \\\n",
       "1211    0.6700   0.3480  147.985    0.0  ...    0.0    0.0    0.0    0.0   \n",
       "1217    0.0951   0.2770  120.001    0.0  ...    1.0    0.0    0.0    0.0   \n",
       "925     0.0315   0.9100  160.076    0.0  ...    0.0    0.0    0.0    0.0   \n",
       "1582    0.1320   0.0947  129.999    0.0  ...    0.0    0.0    0.0    0.0   \n",
       "800     0.1900   0.9200  179.966    0.0  ...    0.0    0.0    0.0    0.0   \n",
       "...        ...      ...      ...    ...  ...    ...    ...    ...    ...   \n",
       "764     0.3330   0.9430  177.824    0.0  ...    1.0    0.0    0.0    0.0   \n",
       "554     0.1750   0.1930   96.600    1.0  ...    0.0    0.0    0.0    0.0   \n",
       "776     0.0471   0.9430  170.917    1.0  ...    0.0    0.0    0.0    0.0   \n",
       "49      0.1200   0.2550   91.354    0.0  ...    0.0    1.0    0.0    0.0   \n",
       "1624    0.1130   0.0996  123.025    0.0  ...    0.0    0.0    0.0    0.0   \n",
       "\n",
       "      key_9  key_10  key_11  time_signature_3  time_signature_4  \\\n",
       "1211    0.0     0.0     0.0               0.0               1.0   \n",
       "1217    0.0     0.0     0.0               0.0               1.0   \n",
       "925     1.0     0.0     0.0               0.0               1.0   \n",
       "1582    0.0     0.0     0.0               0.0               1.0   \n",
       "800     0.0     0.0     0.0               0.0               1.0   \n",
       "...     ...     ...     ...               ...               ...   \n",
       "764     0.0     0.0     0.0               0.0               1.0   \n",
       "554     0.0     0.0     0.0               1.0               0.0   \n",
       "776     0.0     0.0     0.0               0.0               1.0   \n",
       "49      0.0     0.0     0.0               0.0               1.0   \n",
       "1624    0.0     1.0     0.0               0.0               1.0   \n",
       "\n",
       "      time_signature_5  \n",
       "1211               0.0  \n",
       "1217               0.0  \n",
       "925                0.0  \n",
       "1582               0.0  \n",
       "800                0.0  \n",
       "...                ...  \n",
       "764                0.0  \n",
       "554                0.0  \n",
       "776                0.0  \n",
       "49                 0.0  \n",
       "1624               0.0  \n",
       "\n",
       "[329 rows x 24 columns]"
      ]
     },
     "execution_count": 88,
     "metadata": {},
     "output_type": "execute_result"
    }
   ],
   "source": [
    "X_test"
   ]
  },
  {
   "cell_type": "markdown",
   "metadata": {},
   "source": [
    "## Save the Model"
   ]
  },
  {
   "cell_type": "code",
   "execution_count": 59,
   "metadata": {},
   "outputs": [
    {
     "data": {
      "text/plain": [
       "['finalized_model_V1.sav']"
      ]
     },
     "execution_count": 59,
     "metadata": {},
     "output_type": "execute_result"
    }
   ],
   "source": [
    "# save the model to disk\n",
    "filenames = 'finalized_model_V1.sav'\n",
    "joblib.dump(NN, filenames)"
   ]
  },
  {
   "cell_type": "markdown",
   "metadata": {},
   "source": [
    "## Load the Model"
   ]
  },
  {
   "cell_type": "code",
   "execution_count": 89,
   "metadata": {},
   "outputs": [
    {
     "name": "stdout",
     "output_type": "stream",
     "text": [
      "329/329 [==============================] - 0s 121us/step\n",
      "0.802431583404541\n"
     ]
    }
   ],
   "source": [
    "# load the model from disk\n",
    "#loaded_model = joblib.load(filenames)\n",
    "#loss, test_a = loaded_model.evaluate(X_test, y_test)\n",
    "#print(test_a)"
   ]
  }
 ],
 "metadata": {
  "kernelspec": {
   "display_name": "Python 3",
   "language": "python",
   "name": "python3"
  },
  "language_info": {
   "codemirror_mode": {
    "name": "ipython",
    "version": 3
   },
   "file_extension": ".py",
   "mimetype": "text/x-python",
   "name": "python",
   "nbconvert_exporter": "python",
   "pygments_lexer": "ipython3",
   "version": "3.7.7"
  }
 },
 "nbformat": 4,
 "nbformat_minor": 4
}
