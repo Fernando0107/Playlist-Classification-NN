{
 "cells": [
  {
   "cell_type": "code",
   "execution_count": null,
   "metadata": {},
   "outputs": [],
   "source": [
    "def get_mean(x):\n",
    "    \n",
    "    \"\"\"\n",
    "    Get the mean of a feature.\n",
    "    Returns a mean.\n",
    "    \"\"\"\n",
    "    \n",
    "    m = len(x)\n",
    "    \n",
    "    mean = sum(x)/m\n",
    "    \n",
    "    return mean"
   ]
  },
  {
   "cell_type": "code",
   "execution_count": null,
   "metadata": {},
   "outputs": [],
   "source": [
    "def get_attribute(playlist):\n",
    "    \n",
    "    alm = []\n",
    "        \n",
    "    alm.append(get_mean(playlist.acousticness))\n",
    "    alm.append(get_mean(playlist.danceability))\n",
    "    alm.append(get_mean(playlist.energy))\n",
    "    alm.append(get_mean(playlist.speechiness))\n",
    "    alm.append(get_mean(playlist.instrumentalness))\n",
    "    alm.append(get_mean(playlist.liveness))\n",
    "    alm.append(get_mean(playlist.valence))\n",
    "        \n",
    "    return alm "
   ]
  },
  {
   "cell_type": "code",
   "execution_count": 3,
   "metadata": {},
   "outputs": [],
   "source": [
    "def get_attribute2(playlist):\n",
    "    \n",
    "    alm = []\n",
    "        \n",
    "    alm.append(get_mean(playlist.acousticness))\n",
    "    alm.append(get_mean(playlist.danceability))\n",
    "    alm.append(get_mean(playlist.energy))\n",
    "    alm.append(get_mean(playlist.instrumentalness))\n",
    "    alm.append(get_mean(playlist.liveness))\n",
    "    alm.append(get_mean(playlist.valence))\n",
    "        \n",
    "    return alm "
   ]
  },
  {
   "cell_type": "code",
   "execution_count": 4,
   "metadata": {},
   "outputs": [],
   "source": [
    "def playlist_name(playlists):\n",
    "    \n",
    "    names = []\n",
    "    \n",
    "    for i in range(len(playlists)):\n",
    "        \n",
    "        names.append(playlists[i]['playlist'][0])\n",
    "    \n",
    "    return names"
   ]
  },
  {
   "cell_type": "code",
   "execution_count": 1,
   "metadata": {},
   "outputs": [],
   "source": [
    "from prettytable import PrettyTable    \n",
    "\n",
    "def table(pred):\n",
    "    \n",
    "    table = PrettyTable()\n",
    "\n",
    "    table.field_names = [\"Playlist\", \"Prediction\"]\n",
    "\n",
    "    table.add_row([\"Electronic\", pred[0]])\n",
    "    table.add_row([\"Salsa\", pred[1]])\n",
    "    table.add_row([\"Varias\", pred[2]])\n",
    "    \n",
    "    return table"
   ]
  },
  {
   "cell_type": "code",
   "execution_count": null,
   "metadata": {},
   "outputs": [],
   "source": []
  }
 ],
 "metadata": {
  "kernelspec": {
   "display_name": "Python 3",
   "language": "python",
   "name": "python3"
  },
  "language_info": {
   "codemirror_mode": {
    "name": "ipython",
    "version": 3
   },
   "file_extension": ".py",
   "mimetype": "text/x-python",
   "name": "python",
   "nbconvert_exporter": "python",
   "pygments_lexer": "ipython3",
   "version": "3.7.7"
  }
 },
 "nbformat": 4,
 "nbformat_minor": 4
}
